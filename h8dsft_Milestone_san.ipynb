{
 "cells": [
  {
   "cell_type": "markdown",
   "metadata": {},
   "source": [
    "# Shopping Mall Analysis"
   ]
  },
  {
   "cell_type": "markdown",
   "metadata": {},
   "source": [
    "## Dashboard"
   ]
  },
  {
   "cell_type": "markdown",
   "metadata": {},
   "source": [
    "Link : https://public.tableau.com/app/profile/san.gabriel.vanness.kenrick.erwi/viz/milestone_17272481656540/Dashboard1"
   ]
  },
  {
   "cell_type": "markdown",
   "metadata": {},
   "source": [
    "## Objective(Background)\n",
    "\n",
    "Peningkatan mal di turki berdampak signifikan pada budaya dan sosial. Memahami perubahan ini sangat penting untuk memahami tren yang sedang berlangsung dan terus berkembang. Mal atau pusat perbelanjaan ini mempengaruhi pilihan gaya hidup di Turki. Juga memegang peran penting dalam membentuk dan mengglobalkan kebiasaan konsumsi. Keberadaan banyak mal saat ini tentunya akan menimbulkan persaingan yang ketat di sektor ini. Oleh karena itu setiap mal harus mampu mengantisipasi persaingan pasar untuk menarik minat konsumen untuk mengunjungi mal tersebut agar intensitas penjualan meningkat.\n",
    "\n",
    "Maka dari itu, harus dilakukan analisis terhadap data transaksi pelanggan di beberapa mal untuk mencari atau mengetahui strategi pemasaran yang harus dilakukan untuk meningkatkan intensitas penjualan. Dengan strategi pemasaran yang berhubungan dengan trend dan habit maka produk yang dijual akan lebih mudah diterima oleh pelanggan.\n",
    "\n",
    "Sumber : https://dergipark.org.tr/en/download/article-file/3136104"
   ]
  },
  {
   "cell_type": "markdown",
   "metadata": {},
   "source": [
    "## Identifikasi Masalah"
   ]
  },
  {
   "cell_type": "markdown",
   "metadata": {},
   "source": [
    "### Topik Permasalahan"
   ]
  },
  {
   "cell_type": "markdown",
   "metadata": {},
   "source": [
    "Keberadaan banyak mal akan menimbulkan persaingan yang ketat di sektor retail."
   ]
  },
  {
   "cell_type": "markdown",
   "metadata": {},
   "source": [
    "### Business Understanding"
   ]
  },
  {
   "cell_type": "markdown",
   "metadata": {},
   "source": [
    "#### SMART"
   ]
  },
  {
   "cell_type": "markdown",
   "metadata": {},
   "source": [
    "1. **Specific** : Mencari strategi pemasaran untuk meningkatkan intensitas pengunjung dan penjualan produk di mal.\n",
    "2. **Measurable** : Meningkatkan penjualan produk di mal sebanyak 15%.\n",
    "3. **Achievable** : Dengan strategi pemasaran yang mengikuti tren dan habit, mencapai target peningkatan penjualan.\n",
    "4. **Relevant** : Dengan adanya persaingan ketat di sektor ritel, analisis ini relevan untuk membantu mal mengembangkan strategi pemasaran untuk menarik lebih banyak pengunjung.\n",
    "5. **Time-based** : Dalam 3 bulan, dengan strategi pemasaran yang akan dilakukan untuk mencapai target peningkatan penjualan.\n"
   ]
  },
  {
   "cell_type": "markdown",
   "metadata": {},
   "source": [
    "#### Problem Statement"
   ]
  },
  {
   "cell_type": "markdown",
   "metadata": {},
   "source": [
    "Dengan adanya persaingan ketat di sektor ritel sehingga dapat mencari strategi pemasaran berdasarkan tren dan habit dengan analisis untuk meningkatkan penjualan produk sebesar 15% dalam 3 bulan di sektor ritel."
   ]
  },
  {
   "cell_type": "markdown",
   "metadata": {},
   "source": [
    "### User"
   ]
  },
  {
   "cell_type": "markdown",
   "metadata": {},
   "source": [
    "User yang membutuhkan hasil analisis ini adalah divisi marketing mal."
   ]
  },
  {
   "cell_type": "markdown",
   "metadata": {},
   "source": [
    "### Penjabaran Masalah (Problem Breakdown)"
   ]
  },
  {
   "cell_type": "markdown",
   "metadata": {},
   "source": [
    "Penjabaran masalah dengan metode **5W+1H**:\n",
    "\n",
    "1. Statistik Diferensial\n",
    "    - Berapa rata-rata pembelian yang dilakukan female dan male setiap tahun dari 2021 - 2023?\n",
    "    - Berapa interval potensi setiap pembelian yang dilakukan setiap tahun?\n",
    "2. Statistik Inferensial\n",
    "    - Apakah rata - rata total pembelian antara laki - laki dan perempuan sama?\n",
    "    - Bagaimana pengaruh kategori dengan harga barang?\n",
    "3. Visualisasi Data\n",
    "    - Rentang usia apa dengan pembelian paling banyak setiap tahun dari tahun 2021 - 2023?\n",
    "    - Kapan jumlah pembelian terbanyak dilakukan setiap bulan dari tahun 2021 - 2023?\n",
    "    - Kapan jumlah peningkatan pembelian tertinggi dalam 3 bulan(februari - mei) sesuai dengan 3 kategori terbesar dari tahun 2021 - 2023?\n",
    "    - Apakah metode pembayaran yang paling sering dipakai setiap tahun?\n",
    "    - Dimana tempat perbelanjaan yang memiliki jumlah penjualan terbanyak?"
   ]
  },
  {
   "cell_type": "markdown",
   "metadata": {},
   "source": [
    "## Import Libraries"
   ]
  },
  {
   "cell_type": "code",
   "execution_count": 1,
   "metadata": {},
   "outputs": [],
   "source": [
    "# Melakukan import library yang digunakan.\n",
    "import pandas as pd\n",
    "from scipy import stats\n",
    "import numpy as np\n",
    "import plotly.express as px"
   ]
  },
  {
   "cell_type": "markdown",
   "metadata": {},
   "source": [
    "## Data Loading"
   ]
  },
  {
   "cell_type": "markdown",
   "metadata": {},
   "source": [
    "### Data Explanation\n",
    "\n",
    "Dataset : Customer Shopping Dataset - Retail Sales Data\n",
    "\n",
    "Dataset berasal dari informasi penjualan dari 10 mall dari tahun 2021 hingga 2023. Data dikumpulkan dari umur dan jenis kelamin yang beragam untuk memberikan pandangan terhadap habit pembelian di Istanbul. Data ini dapat digunakan untuk memdapatkan insight dalam tren dan kebiasaan dalam pembelian di Istanbul.\n",
    "\n",
    "\n",
    "Column | Data Type | Explanation|\n",
    "--------|-----------|-----------|\n",
    "invoice_no | Integer | Invoice number. |\n",
    "customer_id | Integer | Customer number. |\n",
    "gender | String | Customer gender. |\n",
    "age | Integer | Customer age. |\n",
    "category | String | The category of the purchased product. |\n",
    "quantity | Integer | The quantities of each product (item) per transaction. |\n",
    "price | Float | Product price per unit in Turkish Liras (TL). |\n",
    "payment_method | String | The payment method (cash, credit card or debit card) used for the transaction. |\n",
    "invoice_date | String | The day when a transaction was generated. |\n",
    "shopping_mall | String | The name of the shopping mall where the transaction was made. |\n",
    "\n",
    "Sumber : https://www.kaggle.com/datasets/mehmettahiraslan/customer-shopping-dataset"
   ]
  },
  {
   "cell_type": "markdown",
   "metadata": {},
   "source": [
    "### Read CSV"
   ]
  },
  {
   "cell_type": "markdown",
   "metadata": {},
   "source": [
    "Pada tahap ini akan dilakukan load dataset dari file csv."
   ]
  },
  {
   "cell_type": "code",
   "execution_count": 2,
   "metadata": {},
   "outputs": [],
   "source": [
    "# Meloading data dari csv ke dataframe.\n",
    "df_asli =  pd.read_csv(\"customer_shopping_data.csv\")"
   ]
  },
  {
   "cell_type": "markdown",
   "metadata": {},
   "source": [
    "Selanjutnya akan dilihat summary data."
   ]
  },
  {
   "cell_type": "markdown",
   "metadata": {},
   "source": [
    "### Data Summary"
   ]
  },
  {
   "cell_type": "markdown",
   "metadata": {},
   "source": [
    "Pada tahap ini akan dilakukan penampilan data summary untuk mengetahui isi data dan hal yang ingin digunakan pada data."
   ]
  },
  {
   "cell_type": "code",
   "execution_count": 3,
   "metadata": {},
   "outputs": [
    {
     "name": "stdout",
     "output_type": "stream",
     "text": [
      "<class 'pandas.core.frame.DataFrame'>\n",
      "RangeIndex: 99457 entries, 0 to 99456\n",
      "Data columns (total 10 columns):\n",
      " #   Column          Non-Null Count  Dtype  \n",
      "---  ------          --------------  -----  \n",
      " 0   invoice_no      99457 non-null  object \n",
      " 1   customer_id     99457 non-null  object \n",
      " 2   gender          99457 non-null  object \n",
      " 3   age             99457 non-null  int64  \n",
      " 4   category        99457 non-null  object \n",
      " 5   quantity        99457 non-null  int64  \n",
      " 6   price           99457 non-null  float64\n",
      " 7   payment_method  99457 non-null  object \n",
      " 8   invoice_date    99457 non-null  object \n",
      " 9   shopping_mall   99457 non-null  object \n",
      "dtypes: float64(1), int64(2), object(7)\n",
      "memory usage: 7.6+ MB\n"
     ]
    }
   ],
   "source": [
    "# Menampilkan data summary\n",
    "df_asli.info()"
   ]
  },
  {
   "cell_type": "markdown",
   "metadata": {},
   "source": [
    "Pada data summary, dapat diketahui bahwa data memiliki 99.457 entri dengan 10 kolom dengan tipe data float sebanyak 1 kolom, integer sebanyak 2 kolom dan object atau string sebanyak 7 kolom. Selanjutnya akan dilakukan penampilan nama kolom."
   ]
  },
  {
   "cell_type": "markdown",
   "metadata": {},
   "source": [
    "### Data Columns"
   ]
  },
  {
   "cell_type": "markdown",
   "metadata": {},
   "source": [
    "Pada tahap ini akan dilakukan penampilan nama kolom dari data untuk dianalisis kolom mana yang tidak akan dipakai."
   ]
  },
  {
   "cell_type": "code",
   "execution_count": 4,
   "metadata": {},
   "outputs": [
    {
     "data": {
      "text/plain": [
       "Index(['invoice_no', 'customer_id', 'gender', 'age', 'category', 'quantity',\n",
       "       'price', 'payment_method', 'invoice_date', 'shopping_mall'],\n",
       "      dtype='object')"
      ]
     },
     "execution_count": 4,
     "metadata": {},
     "output_type": "execute_result"
    }
   ],
   "source": [
    "# Menampilkan nama kolom\n",
    "df_asli.columns"
   ]
  },
  {
   "cell_type": "markdown",
   "metadata": {},
   "source": [
    "Pada nama kolom, tidak akan dilakukan perubahan tetapi akan menghapus 2 kolom yang tidak akan digunakan pada analisis yaitu kolom 'invoice_no' dan 'custormer_id'. Lalu akan menampilkan nilai unik pada setiap kolom untuk mengecek data yang akan dilakukan handling."
   ]
  },
  {
   "cell_type": "markdown",
   "metadata": {},
   "source": [
    "### Unique Values"
   ]
  },
  {
   "cell_type": "markdown",
   "metadata": {},
   "source": [
    "Pada tahap ini akan menampilkan nilai unik pada setiap kolom untuk melakukan handling yang tepat."
   ]
  },
  {
   "cell_type": "code",
   "execution_count": 5,
   "metadata": {},
   "outputs": [
    {
     "name": "stdout",
     "output_type": "stream",
     "text": [
      "invoice_no : ['I138884' 'I317333' 'I127801' ... 'I824010' 'I702964' 'I232867']\n",
      "customer_id : ['C241288' 'C111565' 'C266599' ... 'C103292' 'C800631' 'C273973']\n",
      "gender : ['Female' 'Male']\n",
      "age : [28 21 20 66 53 49 32 69 60 36 29 67 25 24 65 42 46 23 27 52 44 51 50 68\n",
      " 43 59 54 48 40 41 19 18 22 61 45 64 33 63 34 47 38 57 30 26 62 39 55 56\n",
      " 35 31 37 58]\n",
      "category : ['Clothing' 'Shoes' 'Books' 'Cosmetics' 'Food & Beverage' 'Toys'\n",
      " 'Technology' 'Souvenir']\n",
      "quantity : [5 3 1 4 2]\n",
      "price : [1.50040e+03 1.80051e+03 3.00080e+02 3.00085e+03 6.06000e+01 4.06600e+01\n",
      " 6.00160e+02 9.00240e+02 1.04600e+01 1.51500e+01 1.43360e+02 3.03000e+01\n",
      " 1.56900e+01 5.23000e+00 5.25000e+03 7.57500e+01 7.16800e+01 2.03300e+02\n",
      " 2.40068e+03 1.21980e+02 1.07520e+02 1.20032e+03 8.13200e+01 4.54500e+01\n",
      " 4.20000e+03 1.62640e+02 5.86500e+01 2.61500e+01 3.51900e+01 2.09200e+01\n",
      " 2.34600e+01 2.10000e+03 3.58400e+01 3.15000e+03 1.79200e+02 6.00170e+02\n",
      " 1.05000e+03 1.20034e+03 4.69200e+01 1.17300e+01]\n",
      "payment_method : ['Credit Card' 'Debit Card' 'Cash']\n",
      "invoice_date : ['5/8/2022' '12/12/2021' '9/11/2021' '16/05/2021' '24/10/2021'\n",
      " '24/05/2022' '13/03/2022' '13/01/2021' '4/11/2021' '22/08/2021'\n",
      " '25/12/2022' '28/10/2022' '31/07/2022' '17/11/2022' '3/6/2022'\n",
      " '7/11/2021' '16/01/2021' '5/1/2022' '26/07/2021' '7/3/2023' '15/02/2023'\n",
      " '1/5/2021' '18/06/2022' '26/10/2021' '16/12/2022' '20/04/2022'\n",
      " '10/10/2022' '23/08/2022' '29/04/2021' '4/7/2022' '21/11/2021'\n",
      " '23/02/2022' '11/7/2021' '30/08/2022' '4/1/2023' '21/06/2022' '8/7/2022'\n",
      " '27/02/2022' '19/12/2022' '10/9/2021' '14/02/2022' '28/04/2022'\n",
      " '20/06/2022' '21/04/2022' '9/12/2022' '12/1/2023' '7/11/2022' '7/2/2022'\n",
      " '13/06/2021' '23/08/2021' '24/02/2023' '22/02/2022' '12/3/2021'\n",
      " '2/1/2022' '26/11/2021' '21/04/2021' '23/06/2021' '14/12/2021' '9/6/2022'\n",
      " '5/2/2021' '6/3/2022' '9/5/2022' '17/10/2022' '22/01/2022' '14/03/2021'\n",
      " '27/04/2022' '19/11/2021' '10/9/2022' '4/9/2021' '21/08/2022' '2/10/2021'\n",
      " '7/1/2023' '8/6/2021' '17/04/2021' '20/07/2022' '14/07/2021' '1/11/2022'\n",
      " '6/1/2023' '25/03/2021' '8/9/2022' '18/02/2022' '22/04/2021' '15/10/2022'\n",
      " '7/4/2022' '7/6/2022' '22/01/2023' '22/08/2022' '3/10/2021' '29/07/2021'\n",
      " '3/6/2021' '17/12/2021' '31/12/2022' '9/8/2022' '4/5/2021' '25/05/2022'\n",
      " '23/12/2022' '24/01/2023' '14/09/2021' '4/2/2022' '6/1/2022' '1/2/2022'\n",
      " '26/10/2022' '21/09/2022' '21/08/2021' '8/10/2021' '22/11/2021'\n",
      " '19/03/2022' '19/10/2022' '12/1/2022' '7/6/2021' '15/01/2023'\n",
      " '11/11/2021' '30/05/2021' '23/12/2021' '30/04/2022' '21/02/2022'\n",
      " '26/08/2021' '15/12/2021' '20/02/2021' '1/8/2022' '9/9/2021' '25/10/2021'\n",
      " '20/06/2021' '7/4/2021' '5/12/2021' '25/05/2021' '12/4/2022' '16/12/2021'\n",
      " '21/02/2021' '18/12/2022' '19/09/2022' '1/2/2023' '5/10/2022'\n",
      " '28/11/2021' '3/8/2021' '12/10/2022' '28/09/2022' '12/7/2021' '3/7/2021'\n",
      " '26/03/2022' '17/05/2022' '11/4/2022' '22/10/2021' '20/12/2021'\n",
      " '17/03/2022' '23/06/2022' '19/06/2021' '20/11/2021' '31/07/2021'\n",
      " '20/02/2022' '9/2/2023' '24/03/2021' '25/08/2022' '21/10/2021'\n",
      " '28/05/2022' '5/3/2022' '5/10/2021' '16/04/2021' '26/02/2023'\n",
      " '20/03/2021' '15/05/2022' '31/01/2023' '3/8/2022' '28/03/2021'\n",
      " '21/11/2022' '12/2/2021' '3/4/2021' '3/7/2022' '14/02/2021' '15/07/2022'\n",
      " '19/05/2022' '13/02/2023' '27/11/2022' '2/3/2021' '16/10/2021'\n",
      " '11/1/2023' '8/6/2022' '24/05/2021' '18/01/2021' '22/07/2021'\n",
      " '25/09/2022' '16/01/2022' '13/11/2022' '23/07/2022' '24/06/2021'\n",
      " '30/01/2021' '17/04/2022' '23/02/2023' '5/7/2021' '31/08/2021' '9/9/2022'\n",
      " '30/06/2022' '24/07/2021' '15/04/2022' '25/09/2021' '24/08/2021'\n",
      " '26/01/2021' '5/2/2022' '17/07/2022' '3/1/2021' '22/09/2022' '27/06/2021'\n",
      " '3/2/2023' '8/12/2022' '11/8/2022' '13/09/2021' '27/05/2022' '7/12/2022'\n",
      " '5/4/2022' '10/1/2022' '30/01/2022' '21/12/2022' '24/02/2021'\n",
      " '19/07/2022' '5/11/2022' '23/07/2021' '27/10/2022' '13/03/2021'\n",
      " '4/8/2022' '1/4/2021' '8/8/2021' '28/06/2021' '25/01/2021' '12/8/2022'\n",
      " '18/09/2022' '30/08/2021' '19/06/2022' '15/12/2022' '29/12/2021'\n",
      " '16/06/2021' '7/2/2021' '17/01/2023' '20/01/2022' '30/09/2021' '6/4/2022'\n",
      " '14/11/2022' '22/03/2021' '22/12/2022' '7/7/2021' '18/09/2021'\n",
      " '26/03/2021' '27/07/2022' '26/06/2022' '25/07/2022' '19/09/2021'\n",
      " '29/03/2022' '9/7/2021' '25/01/2022' '4/9/2022' '14/08/2022' '3/2/2022'\n",
      " '14/06/2022' '13/08/2021' '11/1/2022' '22/12/2021' '4/2/2021' '2/1/2023'\n",
      " '23/11/2022' '10/1/2023' '6/8/2022' '19/02/2023' '29/06/2021' '1/7/2021'\n",
      " '10/10/2021' '30/06/2021' '24/03/2022' '17/09/2022' '18/02/2021'\n",
      " '21/03/2021' '2/9/2022' '26/01/2023' '1/7/2022' '25/01/2023' '23/09/2022'\n",
      " '8/9/2021' '31/10/2022' '18/10/2021' '31/05/2021' '18/08/2021'\n",
      " '16/09/2021' '15/11/2022' '7/8/2021' '12/7/2022' '14/09/2022'\n",
      " '25/06/2021' '8/4/2021' '13/02/2022' '15/06/2022' '5/12/2022'\n",
      " '10/11/2021' '25/11/2022' '9/11/2022' '3/1/2022' '19/02/2022' '8/11/2021'\n",
      " '1/5/2022' '14/04/2021' '10/6/2022' '12/5/2022' '27/12/2022' '16/08/2021'\n",
      " '5/3/2021' '17/02/2023' '8/8/2022' '8/3/2023' '12/9/2021' '23/03/2022'\n",
      " '11/12/2021' '29/12/2022' '10/2/2021' '10/5/2021' '29/03/2021'\n",
      " '4/10/2022' '8/11/2022' '17/05/2021' '16/06/2022' '24/09/2022' '4/4/2022'\n",
      " '18/10/2022' '17/07/2021' '8/3/2022' '17/09/2021' '3/3/2021' '26/12/2021'\n",
      " '4/7/2021' '5/4/2021' '27/03/2021' '6/12/2022' '2/8/2021' '6/5/2022'\n",
      " '1/12/2022' '8/12/2021' '23/02/2021' '7/1/2022' '20/05/2022' '15/10/2021'\n",
      " '2/2/2023' '9/1/2023' '24/06/2022' '7/7/2022' '19/02/2021' '12/11/2022'\n",
      " '13/04/2021' '3/5/2021' '24/04/2022' '17/12/2022' '19/11/2022'\n",
      " '16/03/2022' '1/1/2022' '9/3/2022' '14/11/2021' '23/01/2022' '2/4/2022'\n",
      " '16/10/2022' '18/01/2023' '27/09/2022' '31/01/2022' '10/12/2022'\n",
      " '8/4/2022' '4/6/2022' '25/07/2021' '28/07/2022' '20/09/2022' '13/06/2022'\n",
      " '2/2/2022' '10/11/2022' '1/1/2023' '6/11/2021' '9/4/2021' '15/08/2022'\n",
      " '24/01/2022' '12/10/2021' '5/3/2023' '9/5/2021' '11/9/2021' '1/10/2021'\n",
      " '1/8/2021' '21/05/2021' '11/7/2022' '25/03/2022' '19/10/2021'\n",
      " '15/03/2022' '24/11/2022' '21/07/2022' '26/12/2022' '21/01/2023'\n",
      " '11/11/2022' '25/06/2022' '22/06/2022' '6/9/2021' '12/3/2022' '4/1/2021'\n",
      " '2/3/2023' '28/01/2021' '16/07/2021' '3/11/2021' '16/11/2021'\n",
      " '26/08/2022' '28/08/2021' '1/3/2021' '22/05/2021' '9/3/2021' '13/01/2022'\n",
      " '20/10/2021' '31/01/2021' '8/7/2021' '7/10/2021' '1/9/2021' '25/10/2022'\n",
      " '17/06/2022' '29/04/2022' '29/05/2022' '16/11/2022' '17/08/2022'\n",
      " '10/2/2023' '20/01/2021' '30/01/2023' '25/02/2021' '16/07/2022'\n",
      " '18/01/2022' '7/8/2022' '15/07/2021' '22/09/2021' '28/08/2022'\n",
      " '11/8/2021' '2/10/2022' '30/12/2022' '28/02/2022' '29/11/2022'\n",
      " '27/08/2022' '27/12/2021' '10/2/2022' '25/11/2021' '15/03/2021'\n",
      " '3/12/2022' '19/08/2022' '14/06/2021' '8/1/2021' '12/5/2021' '2/11/2022'\n",
      " '14/07/2022' '28/07/2021' '3/2/2021' '1/4/2022' '11/2/2023' '6/2/2023'\n",
      " '11/10/2021' '6/3/2021' '9/2/2021' '27/09/2021' '30/07/2021' '18/04/2021'\n",
      " '8/2/2021' '18/08/2022' '27/07/2021' '12/1/2021' '7/1/2021' '20/09/2021'\n",
      " '23/01/2023' '26/06/2021' '4/12/2022' '24/09/2021' '13/09/2022'\n",
      " '4/3/2021' '2/12/2021' '30/10/2022' '29/01/2023' '26/04/2022'\n",
      " '20/12/2022' '8/2/2023' '15/09/2022' '16/09/2022' '28/04/2021'\n",
      " '23/04/2021' '10/4/2022' '2/12/2022' '11/6/2022' '13/07/2021' '5/7/2022'\n",
      " '13/10/2021' '3/12/2021' '1/3/2022' '28/02/2023' '5/6/2021' '13/12/2021'\n",
      " '14/03/2022' '5/9/2022' '26/09/2021' '4/12/2021' '25/08/2021' '12/6/2021'\n",
      " '10/1/2021' '22/03/2022' '13/05/2022' '29/10/2021' '6/7/2021'\n",
      " '27/10/2021' '17/03/2021' '31/03/2021' '30/03/2022' '10/8/2022'\n",
      " '7/10/2022' '28/09/2021' '31/03/2022' '24/01/2021' '2/2/2021'\n",
      " '16/05/2022' '3/5/2022' '27/08/2021' '17/01/2022' '5/5/2021' '4/1/2022'\n",
      " '20/04/2021' '25/02/2022' '6/5/2021' '13/11/2021' '4/2/2023' '27/03/2022'\n",
      " '30/05/2022' '6/11/2022' '21/10/2022' '23/11/2021' '15/01/2022'\n",
      " '6/6/2022' '2/9/2021' '10/7/2022' '14/04/2022' '22/04/2022' '11/10/2022'\n",
      " '10/5/2022' '4/8/2021' '11/3/2022' '3/3/2022' '31/05/2022' '23/01/2021'\n",
      " '17/02/2022' '29/11/2021' '3/10/2022' '25/02/2023' '1/11/2021'\n",
      " '16/01/2023' '26/11/2022' '26/05/2021' '16/03/2021' '12/4/2021'\n",
      " '4/5/2022' '25/04/2022' '8/10/2022' '13/10/2022' '14/12/2022'\n",
      " '17/02/2021' '15/06/2021' '21/02/2023' '3/9/2022' '12/2/2022' '7/3/2022'\n",
      " '4/10/2021' '22/10/2022' '27/02/2021' '28/02/2021' '27/01/2023'\n",
      " '21/01/2021' '22/05/2022' '30/07/2022' '10/4/2021' '19/05/2021'\n",
      " '17/06/2021' '19/03/2021' '12/12/2022' '14/05/2022' '17/08/2021'\n",
      " '20/08/2021' '9/1/2022' '18/05/2022' '4/3/2023' '27/01/2022' '6/8/2021'\n",
      " '24/11/2021' '20/07/2021' '18/03/2021' '26/04/2021' '14/10/2021'\n",
      " '19/04/2022' '19/01/2022' '2/3/2022' '25/04/2021' '24/02/2022'\n",
      " '25/12/2021' '19/01/2021' '12/11/2021' '24/04/2021' '3/11/2022'\n",
      " '18/07/2022' '1/12/2021' '19/01/2023' '19/12/2021' '20/11/2022'\n",
      " '17/11/2021' '11/12/2022' '15/04/2021' '17/01/2021' '20/03/2022'\n",
      " '26/02/2021' '12/9/2022' '15/05/2021' '30/12/2021' '1/9/2022' '6/4/2021'\n",
      " '12/2/2023' '28/12/2022' '9/6/2021' '6/2/2022' '30/04/2021' '15/11/2021'\n",
      " '15/02/2021' '3/4/2022' '24/12/2022' '13/05/2021' '9/12/2021'\n",
      " '26/02/2022' '6/6/2021' '8/5/2021' '28/06/2022' '24/07/2022' '20/01/2023'\n",
      " '27/04/2021' '1/10/2022' '10/3/2022' '27/11/2021' '21/07/2021'\n",
      " '28/05/2021' '20/08/2022' '4/4/2021' '5/8/2021' '19/08/2021' '29/05/2021'\n",
      " '31/12/2021' '11/2/2021' '2/1/2021' '2/5/2021' '8/1/2023' '27/01/2021'\n",
      " '23/09/2021' '16/08/2022' '28/01/2023' '2/6/2021' '4/3/2022' '14/01/2023'\n",
      " '22/02/2023' '13/02/2021' '29/10/2022' '19/07/2021' '23/10/2021'\n",
      " '18/02/2023' '6/12/2021' '10/12/2021' '6/10/2021' '13/08/2022'\n",
      " '20/02/2023' '11/2/2022' '22/11/2022' '22/02/2021' '15/02/2022'\n",
      " '18/11/2022' '14/10/2022' '7/5/2022' '10/7/2021' '3/3/2023' '21/01/2022'\n",
      " '14/01/2022' '13/01/2023' '5/1/2023' '1/6/2022' '29/07/2022' '18/04/2022'\n",
      " '26/09/2022' '30/10/2021' '16/02/2023' '3/9/2021' '29/08/2021' '6/9/2022'\n",
      " '4/6/2021' '8/2/2022' '10/6/2021' '29/01/2022' '18/06/2021' '2/6/2022'\n",
      " '2/5/2022' '6/7/2022' '6/1/2021' '28/12/2021' '27/06/2022' '23/04/2022'\n",
      " '9/7/2022' '20/05/2021' '27/05/2021' '9/10/2021' '21/12/2021' '7/5/2021'\n",
      " '15/01/2021' '18/12/2021' '6/3/2023' '5/2/2023' '7/9/2021' '15/09/2021'\n",
      " '18/07/2021' '5/1/2021' '14/05/2021' '5/11/2021' '30/09/2022'\n",
      " '18/11/2021' '24/10/2022' '2/8/2022' '10/3/2021' '30/03/2021'\n",
      " '20/10/2022' '7/2/2023' '2/4/2021' '11/1/2021' '17/10/2021' '23/05/2022'\n",
      " '30/11/2021' '4/11/2022' '13/07/2022' '10/8/2021' '28/01/2022'\n",
      " '21/09/2021' '11/4/2021' '7/12/2021' '31/08/2022' '9/2/2022' '22/06/2021'\n",
      " '24/12/2021' '21/03/2022' '16/02/2021' '26/05/2022' '9/10/2022'\n",
      " '22/07/2022' '28/10/2021' '8/5/2022' '16/04/2022' '5/9/2021' '26/01/2022'\n",
      " '3/1/2023' '7/9/2022' '29/06/2022' '11/9/2022' '27/02/2023' '1/6/2021'\n",
      " '19/04/2021' '11/5/2022' '13/04/2022' '8/3/2021' '31/10/2021'\n",
      " '23/03/2021' '11/6/2021' '23/05/2021' '15/08/2021' '18/03/2022'\n",
      " '9/1/2021' '28/11/2022' '1/3/2023' '30/11/2022' '5/5/2022' '23/10/2022'\n",
      " '9/8/2021' '14/02/2023' '24/08/2022' '11/3/2021' '2/7/2022' '29/09/2021'\n",
      " '6/10/2022' '5/6/2022' '16/02/2022' '26/07/2022' '29/08/2022'\n",
      " '28/03/2022' '21/05/2022' '21/06/2021' '14/01/2021' '29/09/2022'\n",
      " '22/01/2021' '2/11/2021' '13/12/2022' '6/2/2021' '14/08/2021' '9/4/2022'\n",
      " '12/6/2022' '1/2/2021' '2/7/2021' '7/3/2021' '18/05/2021' '29/01/2021'\n",
      " '1/1/2021' '12/8/2021' '8/1/2022' '11/5/2021']\n",
      "shopping_mall : ['Kanyon' 'Forum Istanbul' 'Metrocity' 'Metropol AVM' 'Istinye Park'\n",
      " 'Mall of Istanbul' 'Emaar Square Mall' 'Cevahir AVM' 'Viaport Outlet'\n",
      " 'Zorlu Center']\n"
     ]
    }
   ],
   "source": [
    "# Menampilkan unique value dari semua kolom\n",
    "for i in df_asli.columns:\n",
    "    print(f\"{i} : {df_asli[i].unique()}\")"
   ]
  },
  {
   "cell_type": "markdown",
   "metadata": {},
   "source": [
    "Pada unik value yang tidak terdapat missing value pada setiap kolom. Tetapi hanya kolom 'invoice_date' akan diubah tipe datanya menjadi **datetime**, tetapi harus mengubah '/' menjadi '-'. Lalu menambah kolom 'Month Name' dan 'year' yang diambil dari kolom 'invoice_date'. Lalu menambah kolom 'Total' yang didapat dari perkalian kolom 'price' dan kolom 'quantity'. Setelah itu akan dilakukan penambahan kolom 'Age Category' yang diambil dari kolom 'age' menurut rentang usia. Selanjutnya akan dilakukan tahap data cleaning."
   ]
  },
  {
   "cell_type": "markdown",
   "metadata": {},
   "source": [
    "## Data Cleaning"
   ]
  },
  {
   "cell_type": "markdown",
   "metadata": {},
   "source": [
    "Pada tahap data cleaning akan dilakukan penghapusan kolom, handling value dan panambahan kolom yang telah dianalisis pada tahap data loading."
   ]
  },
  {
   "cell_type": "markdown",
   "metadata": {},
   "source": [
    "#### Drop Columns"
   ]
  },
  {
   "cell_type": "markdown",
   "metadata": {},
   "source": [
    "Pada tahap drop columns akan dilakukan penghapusan kolom invoice_no dan customer_id dikarenakan tidak digunakan untuk analisis."
   ]
  },
  {
   "cell_type": "code",
   "execution_count": 6,
   "metadata": {},
   "outputs": [],
   "source": [
    "# Menghapus kolom yang tidak digunakan untuk analisis\n",
    "df = df_asli.drop(columns=[\"invoice_no\", \"customer_id\"], axis=0)"
   ]
  },
  {
   "cell_type": "markdown",
   "metadata": {},
   "source": [
    "Selanjutnya akan dilakukan handling values."
   ]
  },
  {
   "cell_type": "markdown",
   "metadata": {},
   "source": [
    "### Handling Values"
   ]
  },
  {
   "cell_type": "markdown",
   "metadata": {},
   "source": [
    "Pada tahap handling values, dilakukan perubahan '/' menjadi '-' karena agar dapat diubah menjadi tipe data datetime."
   ]
  },
  {
   "cell_type": "code",
   "execution_count": 7,
   "metadata": {},
   "outputs": [],
   "source": [
    "# Mengubah '/' pada date ke '-'\n",
    "df[\"invoice_date\"] = df[\"invoice_date\"].str.replace(\"/\", \"-\")"
   ]
  },
  {
   "cell_type": "markdown",
   "metadata": {},
   "source": [
    "Selanjutnya akan dilakukan handling tipe data kolom."
   ]
  },
  {
   "cell_type": "markdown",
   "metadata": {},
   "source": [
    "#### Handling Columns Type"
   ]
  },
  {
   "cell_type": "markdown",
   "metadata": {},
   "source": [
    "Pada tahap handling columns type, dilakukan perubahan tipe data pada kolom 'invoice_date' dari object/string menjadi datetime dengan formant day-month-year mengikuti format value dari kolom 'invoice_date'."
   ]
  },
  {
   "cell_type": "code",
   "execution_count": 8,
   "metadata": {},
   "outputs": [],
   "source": [
    "# Mengubah tipe data dari string ke datetime\n",
    "df[\"invoice_date\"] = pd.to_datetime(df[\"invoice_date\"], format='%d-%m-%Y')"
   ]
  },
  {
   "cell_type": "markdown",
   "metadata": {},
   "source": [
    "Selanjutnya akan dilakukan penambahan kolom yang akan digunakan dalam analisis."
   ]
  },
  {
   "cell_type": "markdown",
   "metadata": {},
   "source": [
    "#### Add Columns"
   ]
  },
  {
   "cell_type": "markdown",
   "metadata": {},
   "source": [
    "Pada tahap add columns, dilakukan penambahan 3 kolom dimana kolom 'year' mengambil tahun dari kolom 'invoice_date' yang akan digunakan untuk analisis visualisasi data. Setelah itu membuat kolom 'Total' yang berisikan total pembelian dari kolom 'price' dikali kolom 'quantity'. Penambahan kolom 'Month Name' digunakan untuk analisis total penjualan setiap bulan dari setiap tahun."
   ]
  },
  {
   "cell_type": "code",
   "execution_count": 9,
   "metadata": {},
   "outputs": [],
   "source": [
    "# Menambah kolom year yang diambil dari invoice date\n",
    "df[\"year\"] = df['invoice_date'].dt.year\n",
    "\n",
    "# Menambah kolom month name yang diambil dari invoice date\n",
    "df['Month Name'] = df['invoice_date'].dt.to_period('M')\n",
    "\n",
    "# Menambah kolom total yang diambil dari kolom price dikali kolom quantity\n",
    "df[\"Total\"] = df[\"price\"]*df[\"quantity\"]"
   ]
  },
  {
   "cell_type": "markdown",
   "metadata": {},
   "source": [
    "Selanjutnya dilakukan pengelompokan usia menurut rentang menjadi remaja awal, remaja akhir, dewasa awal, dewasa akhir, lansia awal, lansia akhir, dan manula menurut kategori dari Departemen Kesehatan Republik Indonesia pada tahun 2009.\n",
    "\n",
    "Sumber : https://jurnal.murnisadar.ac.id/index.php/Tekinkom/article/view/115/93"
   ]
  },
  {
   "cell_type": "code",
   "execution_count": 10,
   "metadata": {},
   "outputs": [],
   "source": [
    "# Membuat list kosong\n",
    "age_Category = []\n",
    "for i in df['age']:\n",
    "    if 17 <= i <= 25:\n",
    "        age_Category.append(\"Remaja Akhir\")\n",
    "    elif 26 <= i <= 35:\n",
    "        age_Category.append(\"Dewasa Awal\")\n",
    "    elif 36 <= i <= 45:\n",
    "        age_Category.append(\"Dewasa Akhir\")\n",
    "    elif 46 <= i <= 55:\n",
    "        age_Category.append(\"Lansia Awal\")\n",
    "    elif 56 <= i <= 65:\n",
    "        age_Category.append(\"Lansia Akhir\")\n",
    "    elif i > 65:\n",
    "        age_Category.append(\"Manula\")\n",
    "\n",
    "# Membuat kolom age kategori berdasarkan rentang umur\n",
    "df[\"Age Category\"] = age_Category"
   ]
  },
  {
   "cell_type": "code",
   "execution_count": 11,
   "metadata": {},
   "outputs": [
    {
     "data": {
      "text/plain": [
       "array(['Dewasa Awal', 'Remaja Akhir', 'Manula', 'Lansia Awal',\n",
       "       'Lansia Akhir', 'Dewasa Akhir'], dtype=object)"
      ]
     },
     "execution_count": 11,
     "metadata": {},
     "output_type": "execute_result"
    }
   ],
   "source": [
    "df['Age Category'].unique()"
   ]
  },
  {
   "cell_type": "markdown",
   "metadata": {},
   "source": [
    "Pada data cleaning tidak dilakukan penghapusan outlier dikarenakan semua data merupakan transaksi yang sangat berpengaruh dalam hasil analisis dan merupakan data yang tidak bisa diubah valuenya. Maka dari itu pada data tidak dilakukan penghapusan outlier. Lalu akan menampilkan hasil dari data cleaning."
   ]
  },
  {
   "cell_type": "code",
   "execution_count": 12,
   "metadata": {},
   "outputs": [
    {
     "name": "stdout",
     "output_type": "stream",
     "text": [
      "<class 'pandas.core.frame.DataFrame'>\n",
      "RangeIndex: 99457 entries, 0 to 99456\n",
      "Data columns (total 12 columns):\n",
      " #   Column          Non-Null Count  Dtype         \n",
      "---  ------          --------------  -----         \n",
      " 0   gender          99457 non-null  object        \n",
      " 1   age             99457 non-null  int64         \n",
      " 2   category        99457 non-null  object        \n",
      " 3   quantity        99457 non-null  int64         \n",
      " 4   price           99457 non-null  float64       \n",
      " 5   payment_method  99457 non-null  object        \n",
      " 6   invoice_date    99457 non-null  datetime64[ns]\n",
      " 7   shopping_mall   99457 non-null  object        \n",
      " 8   year            99457 non-null  int32         \n",
      " 9   Month Name      99457 non-null  period[M]     \n",
      " 10  Total           99457 non-null  float64       \n",
      " 11  Age Category    99457 non-null  object        \n",
      "dtypes: datetime64[ns](1), float64(2), int32(1), int64(2), object(5), period[M](1)\n",
      "memory usage: 8.7+ MB\n"
     ]
    }
   ],
   "source": [
    "df.info()"
   ]
  },
  {
   "cell_type": "markdown",
   "metadata": {},
   "source": [
    "Setelah dilakukan data cleaning, didapat 12 kolom yang akan digunakan dalam analisis. Dengan 2 kolom yang telah dihapus dikarenakan tidak digunakan dalam analisis yaitu kolom 'invoice_no' dan 'customer_id'. Lalu akan dilakukan export data ke excel."
   ]
  },
  {
   "cell_type": "markdown",
   "metadata": {},
   "source": [
    "### Export to Excel"
   ]
  },
  {
   "cell_type": "markdown",
   "metadata": {},
   "source": [
    "Pada tahap ini akan dilakukan export untuk digunakan pada pembuatan dashboard tablue."
   ]
  },
  {
   "cell_type": "code",
   "execution_count": 13,
   "metadata": {},
   "outputs": [],
   "source": [
    "# df.to_excel('cleaned.xlsx', engine='xlsxwriter')  "
   ]
  },
  {
   "cell_type": "markdown",
   "metadata": {},
   "source": [
    "Selanjutnya akan dilakukan analisis berdasarkan problem statement yang telah dibuat."
   ]
  },
  {
   "cell_type": "markdown",
   "metadata": {},
   "source": [
    "## Analisis dan Perhitungan"
   ]
  },
  {
   "cell_type": "markdown",
   "metadata": {},
   "source": [
    "Pada tahap ini akan menjawab problem statement dengan menggunakan problem breakdown yang telah dibuat. Dimulai dari penggunaan statistik deskriptif."
   ]
  },
  {
   "cell_type": "markdown",
   "metadata": {},
   "source": [
    "### Statistik Deskriptif"
   ]
  },
  {
   "cell_type": "markdown",
   "metadata": {},
   "source": [
    "Pada tahap ini akan dilakukan perhitungan deskriptif dari problem breakdown yang ada."
   ]
  },
  {
   "cell_type": "markdown",
   "metadata": {},
   "source": [
    "#### Berapa rata-rata pembelian yang dilakukan female dan male setiap tahun dari 2021 - 2023?"
   ]
  },
  {
   "cell_type": "markdown",
   "metadata": {},
   "source": [
    "Dari pertanyaan di atas dapat diketahui bahwa perhitungan akan menggunakan kolom gender dan year dimana perhitungan ini ditujukan untuk mengetahui perbedaan rata - rata pembelian yang dilakukan oleh perempuan dan laki - laki setiap tahunnya."
   ]
  },
  {
   "cell_type": "code",
   "execution_count": 14,
   "metadata": {},
   "outputs": [
    {
     "name": "stdout",
     "output_type": "stream",
     "text": [
      "Rata - rata pembelian Female pada tahun 2022 adalah 2539.713012283024\n",
      "Rata - rata pembelian Female pada tahun 2021 adalah 2518.5747039328326\n",
      "Rata - rata pembelian Female pada tahun 2023 adalah 2483.9978827425007\n",
      "Rata - rata pembelian Male pada tahun 2022 adalah 2526.114595021515\n",
      "Rata - rata pembelian Male pada tahun 2021 adalah 2532.98342642379\n",
      "Rata - rata pembelian Male pada tahun 2023 adalah 2582.762374631269\n"
     ]
    }
   ],
   "source": [
    "# Melakukan perulangan untuk mengambil value di gender\n",
    "for i in df['gender'].unique():\n",
    "    # Melakukan perulangan untuk mengambil value di year\n",
    "    for j in df['year'].unique():\n",
    "            # Membuat data sebagai penampung gender dan year yang berbeda\n",
    "            data = df[(df['gender']==i) & (df['year'] == j)]\n",
    "\n",
    "            # Menampilkan rata - rata setiap gender pada setiap tahun\n",
    "            print(f'Rata - rata pembelian {i} pada tahun {j} adalah {data['Total'].mean()}')"
   ]
  },
  {
   "cell_type": "markdown",
   "metadata": {},
   "source": [
    "Dari rata - rata total pembelian laki - laki dan perempuan dari tahun 2021 - 2023 memiliki hasil yang kurang lebih sama. Sehingga dapat dinyatakan bahwa pembelian yang dilakukan laki - laki dan perempuan setiap tahunnya tidak mengalami perubahan yang signifikan dan stabil. Selanjunya akan menghitung interval potensi pada setiap pembelian."
   ]
  },
  {
   "cell_type": "markdown",
   "metadata": {},
   "source": [
    "#### Berapa interval potensi setiap pembelian yang dilakukan setiap tahun?"
   ]
  },
  {
   "cell_type": "markdown",
   "metadata": {},
   "source": [
    "Pada tahap ini akan dicari interval pembelian yang dilakukan setiap tahunnya, maka dari itu untuk mencari interval dari potensi pembelian atau sales dapat menggunakan confidence interval. Perhitungan ini dilakukan untuk mengetahui potensi minimum pembelian yang dilakukan sehingga dapat mencari strategi penjualan yang mengandalkan minimum pembelian."
   ]
  },
  {
   "cell_type": "code",
   "execution_count": 15,
   "metadata": {},
   "outputs": [
    {
     "name": "stdout",
     "output_type": "stream",
     "text": [
      "Lower Limit: 2502.5472289772524\n",
      "Upper Limit: 2555.0313074756878\n"
     ]
    }
   ],
   "source": [
    "std = df['Total'].std()\n",
    "N = len(df)\n",
    "low, up = stats.norm.interval(0.95,loc=df['Total'].mean(),scale=std/np.sqrt(N))\n",
    "print('Lower Limit:',low)\n",
    "print('Upper Limit:',up)"
   ]
  },
  {
   "cell_type": "markdown",
   "metadata": {},
   "source": [
    "Dengan menggunakan confidence interval, didapat rentang total pembelian yang dilakukan setiap transaksi yaitu dari ₺2,502.5472289772524 sampai ₺2,555.0313074756878. Sehingga minimum pembelian adalah sekitar ₺2,500. Selanjutnya akan melakukan perhitungan untuk menyelesaikan problem dengan menggunakan statistik inferensial."
   ]
  },
  {
   "cell_type": "markdown",
   "metadata": {},
   "source": [
    "### Statistik Inferensial"
   ]
  },
  {
   "cell_type": "markdown",
   "metadata": {},
   "source": [
    "Pada tahap ini akan menjawab problem statement dengan menggunakan problem breakdown yang telah dibuat dengan penggunaan statistik inferensial."
   ]
  },
  {
   "cell_type": "markdown",
   "metadata": {},
   "source": [
    "#### Apakah rata - rata total pembelian antara laki - laki dan perempuan sama?"
   ]
  },
  {
   "cell_type": "markdown",
   "metadata": {},
   "source": [
    "Pada tahap ini akan membandingkan perbedaan antara rata - rata total pembelian yang dilakukan perempuan dan laki - laki. Maka dari itu dengan 2 kondisi yang berbeda atau independent sehingga akan digunakan two sample independent test. Perhitungan ini digunakan untuk melihat perbedaan total pembelian yang dilakukan oleh laki - laki dan perempuan. Dengan menggunakan hipotesis sebagai berikut."
   ]
  },
  {
   "cell_type": "markdown",
   "metadata": {},
   "source": [
    "H0 : rata - rata total pembelian perempuan == rata - rata total pembelian laki-laki\n",
    "\n",
    "H1 : rata - rata total pembelian perempuan != rata - rata total pembelian laki-laki\n"
   ]
  },
  {
   "cell_type": "code",
   "execution_count": 16,
   "metadata": {},
   "outputs": [
    {
     "name": "stdout",
     "output_type": "stream",
     "text": [
      "Rata - rata total pembelian perempuan : 2525.2536232809925\n",
      "Rata - rata total pembelian laki - laki : 2534.0502371482175\n"
     ]
    }
   ],
   "source": [
    "print(f\"Rata - rata total pembelian perempuan : {df.Total[df['gender'] == 'Female'].mean()}\")\n",
    "print(f\"Rata - rata total pembelian laki - laki : {df.Total[df['gender'] == 'Male'].mean()}\")"
   ]
  },
  {
   "cell_type": "markdown",
   "metadata": {},
   "source": [
    "Dilihat dari hasil rata - rata total pembelian yang dialukan oleh laki - laki maupun perempuan tidak memiliki perbedaan yang signifikan yaitu 8.79."
   ]
  },
  {
   "cell_type": "code",
   "execution_count": 17,
   "metadata": {},
   "outputs": [
    {
     "name": "stdout",
     "output_type": "stream",
     "text": [
      "P-value: 0.7473635576386927\n"
     ]
    }
   ],
   "source": [
    "t_stat,p_val = stats.ttest_ind((df.Total[df['gender'] == 'Female']), (df.Total[df['gender'] == 'Male']))\n",
    "print('P-value:',p_val) #The p-value divided by 2 since the output is two-sided p-value"
   ]
  },
  {
   "cell_type": "markdown",
   "metadata": {},
   "source": [
    "Dari two-sample independent test yang dilakukan untuk membandingkan rata - rata total pembelian berdasarkan gender, didapat p-value di atas 0.05 maka dapat dinyatakan bahwa H0 gagal untuk ditolak sehingga rata - rata total pembelian perempuan dan laki - laki tidak memiliki perbedaan yang signifikan. Selanjutnya akan dilakukan perhitungan pada pertanyaan berikutnya."
   ]
  },
  {
   "cell_type": "markdown",
   "metadata": {},
   "source": [
    "#### Bagaimana pengaruh kategori dengan harga barang?"
   ]
  },
  {
   "cell_type": "markdown",
   "metadata": {},
   "source": [
    "Pada tahap ini akan digunakan perhitungan korelasi dengan kendall dikarenakan kolom yang dibandingkan merupakan 1 kolom kategorical dan 1 kolom numerical. Maka dari itu digunakan perhitungan korelasi dengan kendall. Agar dapat melihat hubungan antara kategori dengan harga barang."
   ]
  },
  {
   "cell_type": "markdown",
   "metadata": {},
   "source": [
    "H0 : Tidak ada hubungan antara kategori dengan harga barang.\n",
    "\n",
    "H1 : Ada hubungan antara kategori dengan harga barang."
   ]
  },
  {
   "cell_type": "code",
   "execution_count": 18,
   "metadata": {},
   "outputs": [
    {
     "name": "stdout",
     "output_type": "stream",
     "text": [
      "p-value: 0.0\n",
      "correlation: -0.1541172594743311\n"
     ]
    }
   ],
   "source": [
    "res = stats.kendalltau(df['category'], df['price'])\n",
    "print(f\"p-value: {res.pvalue}\")\n",
    "print(f\"correlation: {res.statistic}\")"
   ]
  },
  {
   "cell_type": "markdown",
   "metadata": {},
   "source": [
    "Dapat disimpulkan dari hasil bahwa nilai korelasi mendekati 0 dengan value negatif. Untuk p-value berada di bawah 0.05 maka H0 di tolak maka dapat dinyatakan bahwa kolom kategori dan harga barang memiliki korelasi. Maka dapat dinyatakan bahwa kategori dan harga barang memiliki korelasi negatif lemah. Lalu akan dilakukan visualisasi data pada problem breakdown berikutnya."
   ]
  },
  {
   "cell_type": "markdown",
   "metadata": {},
   "source": [
    "### Visualisasi Data"
   ]
  },
  {
   "cell_type": "markdown",
   "metadata": {},
   "source": [
    "Pada tahap ini akan menjawab problem statement dengan menggunakan problem breakdown yang telah dibuat dengan penggunaan visualisasi data."
   ]
  },
  {
   "cell_type": "markdown",
   "metadata": {},
   "source": [
    "#### Rentang usia apa dengan pembelian paling banyak setiap tahun dari tahun 2021 - 2023?"
   ]
  },
  {
   "cell_type": "markdown",
   "metadata": {},
   "source": [
    "Pada tahap ini akan melakukan group terhadap kategori rentang usia dengan setiap tahunnya dari tahun 2021 - 2023. Untuk melihat kategori usia mana yang paling banyak melakukan transaksi."
   ]
  },
  {
   "cell_type": "code",
   "execution_count": 19,
   "metadata": {},
   "outputs": [
    {
     "data": {
      "text/html": [
       "<div>\n",
       "<style scoped>\n",
       "    .dataframe tbody tr th:only-of-type {\n",
       "        vertical-align: middle;\n",
       "    }\n",
       "\n",
       "    .dataframe tbody tr th {\n",
       "        vertical-align: top;\n",
       "    }\n",
       "\n",
       "    .dataframe thead th {\n",
       "        text-align: right;\n",
       "    }\n",
       "</style>\n",
       "<table border=\"1\" class=\"dataframe\">\n",
       "  <thead>\n",
       "    <tr style=\"text-align: right;\">\n",
       "      <th></th>\n",
       "      <th>Age Category</th>\n",
       "      <th>year</th>\n",
       "      <th>count</th>\n",
       "    </tr>\n",
       "  </thead>\n",
       "  <tbody>\n",
       "    <tr>\n",
       "      <th>0</th>\n",
       "      <td>Dewasa Akhir</td>\n",
       "      <td>2022</td>\n",
       "      <td>8894</td>\n",
       "    </tr>\n",
       "    <tr>\n",
       "      <th>1</th>\n",
       "      <td>Dewasa Akhir</td>\n",
       "      <td>2021</td>\n",
       "      <td>8891</td>\n",
       "    </tr>\n",
       "    <tr>\n",
       "      <th>2</th>\n",
       "      <td>Dewasa Akhir</td>\n",
       "      <td>2023</td>\n",
       "      <td>1651</td>\n",
       "    </tr>\n",
       "    <tr>\n",
       "      <th>3</th>\n",
       "      <td>Dewasa Awal</td>\n",
       "      <td>2022</td>\n",
       "      <td>8787</td>\n",
       "    </tr>\n",
       "    <tr>\n",
       "      <th>4</th>\n",
       "      <td>Dewasa Awal</td>\n",
       "      <td>2021</td>\n",
       "      <td>8643</td>\n",
       "    </tr>\n",
       "    <tr>\n",
       "      <th>5</th>\n",
       "      <td>Dewasa Awal</td>\n",
       "      <td>2023</td>\n",
       "      <td>1629</td>\n",
       "    </tr>\n",
       "    <tr>\n",
       "      <th>6</th>\n",
       "      <td>Lansia Akhir</td>\n",
       "      <td>2021</td>\n",
       "      <td>8700</td>\n",
       "    </tr>\n",
       "    <tr>\n",
       "      <th>7</th>\n",
       "      <td>Lansia Akhir</td>\n",
       "      <td>2022</td>\n",
       "      <td>8666</td>\n",
       "    </tr>\n",
       "    <tr>\n",
       "      <th>8</th>\n",
       "      <td>Lansia Akhir</td>\n",
       "      <td>2023</td>\n",
       "      <td>1650</td>\n",
       "    </tr>\n",
       "    <tr>\n",
       "      <th>9</th>\n",
       "      <td>Lansia Awal</td>\n",
       "      <td>2022</td>\n",
       "      <td>8717</td>\n",
       "    </tr>\n",
       "    <tr>\n",
       "      <th>10</th>\n",
       "      <td>Lansia Awal</td>\n",
       "      <td>2021</td>\n",
       "      <td>8667</td>\n",
       "    </tr>\n",
       "    <tr>\n",
       "      <th>11</th>\n",
       "      <td>Lansia Awal</td>\n",
       "      <td>2023</td>\n",
       "      <td>1632</td>\n",
       "    </tr>\n",
       "    <tr>\n",
       "      <th>12</th>\n",
       "      <td>Manula</td>\n",
       "      <td>2021</td>\n",
       "      <td>3468</td>\n",
       "    </tr>\n",
       "    <tr>\n",
       "      <th>13</th>\n",
       "      <td>Manula</td>\n",
       "      <td>2022</td>\n",
       "      <td>3467</td>\n",
       "    </tr>\n",
       "    <tr>\n",
       "      <th>14</th>\n",
       "      <td>Manula</td>\n",
       "      <td>2023</td>\n",
       "      <td>636</td>\n",
       "    </tr>\n",
       "    <tr>\n",
       "      <th>15</th>\n",
       "      <td>Remaja Akhir</td>\n",
       "      <td>2022</td>\n",
       "      <td>7020</td>\n",
       "    </tr>\n",
       "    <tr>\n",
       "      <th>16</th>\n",
       "      <td>Remaja Akhir</td>\n",
       "      <td>2021</td>\n",
       "      <td>7013</td>\n",
       "    </tr>\n",
       "    <tr>\n",
       "      <th>17</th>\n",
       "      <td>Remaja Akhir</td>\n",
       "      <td>2023</td>\n",
       "      <td>1326</td>\n",
       "    </tr>\n",
       "  </tbody>\n",
       "</table>\n",
       "</div>"
      ],
      "text/plain": [
       "    Age Category  year  count\n",
       "0   Dewasa Akhir  2022   8894\n",
       "1   Dewasa Akhir  2021   8891\n",
       "2   Dewasa Akhir  2023   1651\n",
       "3    Dewasa Awal  2022   8787\n",
       "4    Dewasa Awal  2021   8643\n",
       "5    Dewasa Awal  2023   1629\n",
       "6   Lansia Akhir  2021   8700\n",
       "7   Lansia Akhir  2022   8666\n",
       "8   Lansia Akhir  2023   1650\n",
       "9    Lansia Awal  2022   8717\n",
       "10   Lansia Awal  2021   8667\n",
       "11   Lansia Awal  2023   1632\n",
       "12        Manula  2021   3468\n",
       "13        Manula  2022   3467\n",
       "14        Manula  2023    636\n",
       "15  Remaja Akhir  2022   7020\n",
       "16  Remaja Akhir  2021   7013\n",
       "17  Remaja Akhir  2023   1326"
      ]
     },
     "execution_count": 19,
     "metadata": {},
     "output_type": "execute_result"
    }
   ],
   "source": [
    "df_usia = df.groupby('Age Category')['year'].value_counts().reset_index()\n",
    "df_usia"
   ]
  },
  {
   "cell_type": "markdown",
   "metadata": {},
   "source": [
    "Untuk visualisasi digunakan treemap dikarenakan data yang akan divisualisasi memiliki data yang banyak dan ingin membandingkan jumlah per kategori usia dengan setiap tahun sebagai hierarchicalnya."
   ]
  },
  {
   "cell_type": "code",
   "execution_count": 20,
   "metadata": {},
   "outputs": [
    {
     "data": {
      "application/vnd.plotly.v1+json": {
       "config": {
        "plotlyServerURL": "https://plot.ly"
       },
       "data": [
        {
         "branchvalues": "total",
         "customdata": [
          [
           8891
          ],
          [
           8894
          ],
          [
           1651
          ],
          [
           8643
          ],
          [
           8787
          ],
          [
           1629
          ],
          [
           8700
          ],
          [
           8666
          ],
          [
           1650
          ],
          [
           8667
          ],
          [
           8717
          ],
          [
           1632
          ],
          [
           3468
          ],
          [
           3467
          ],
          [
           636
          ],
          [
           7013
          ],
          [
           7020
          ],
          [
           1326
          ],
          [
           8059.746419285179
          ],
          [
           8094.240280125574
          ],
          [
           1516.6750351947442
          ]
         ],
         "domain": {
          "x": [
           0,
           1
          ],
          "y": [
           0,
           1
          ]
         },
         "hovertemplate": "labels=%{label}<br>count_sum=%{value}<br>parent=%{parent}<br>id=%{id}<br>count=%{color}<extra></extra>",
         "ids": [
          "2021/Dewasa Akhir",
          "2022/Dewasa Akhir",
          "2023/Dewasa Akhir",
          "2021/Dewasa Awal",
          "2022/Dewasa Awal",
          "2023/Dewasa Awal",
          "2021/Lansia Akhir",
          "2022/Lansia Akhir",
          "2023/Lansia Akhir",
          "2021/Lansia Awal",
          "2022/Lansia Awal",
          "2023/Lansia Awal",
          "2021/Manula",
          "2022/Manula",
          "2023/Manula",
          "2021/Remaja Akhir",
          "2022/Remaja Akhir",
          "2023/Remaja Akhir",
          "2021",
          "2022",
          "2023"
         ],
         "labels": [
          "Dewasa Akhir",
          "Dewasa Akhir",
          "Dewasa Akhir",
          "Dewasa Awal",
          "Dewasa Awal",
          "Dewasa Awal",
          "Lansia Akhir",
          "Lansia Akhir",
          "Lansia Akhir",
          "Lansia Awal",
          "Lansia Awal",
          "Lansia Awal",
          "Manula",
          "Manula",
          "Manula",
          "Remaja Akhir",
          "Remaja Akhir",
          "Remaja Akhir",
          "2021",
          "2022",
          "2023"
         ],
         "marker": {
          "coloraxis": "coloraxis",
          "colors": [
           8891,
           8894,
           1651,
           8643,
           8787,
           1629,
           8700,
           8666,
           1650,
           8667,
           8717,
           1632,
           3468,
           3467,
           636,
           7013,
           7020,
           1326,
           8059.746419285179,
           8094.240280125574,
           1516.6750351947442
          ]
         },
         "name": "",
         "parents": [
          "2021",
          "2022",
          "2023",
          "2021",
          "2022",
          "2023",
          "2021",
          "2022",
          "2023",
          "2021",
          "2022",
          "2023",
          "2021",
          "2022",
          "2023",
          "2021",
          "2022",
          "2023",
          "",
          "",
          ""
         ],
         "type": "treemap",
         "values": [
          8891,
          8894,
          1651,
          8643,
          8787,
          1629,
          8700,
          8666,
          1650,
          8667,
          8717,
          1632,
          3468,
          3467,
          636,
          7013,
          7020,
          1326,
          45382,
          45551,
          8524
         ]
        }
       ],
       "layout": {
        "coloraxis": {
         "colorbar": {
          "title": {
           "text": "count"
          }
         },
         "colorscale": [
          [
           0,
           "#0d0887"
          ],
          [
           0.1111111111111111,
           "#46039f"
          ],
          [
           0.2222222222222222,
           "#7201a8"
          ],
          [
           0.3333333333333333,
           "#9c179e"
          ],
          [
           0.4444444444444444,
           "#bd3786"
          ],
          [
           0.5555555555555556,
           "#d8576b"
          ],
          [
           0.6666666666666666,
           "#ed7953"
          ],
          [
           0.7777777777777778,
           "#fb9f3a"
          ],
          [
           0.8888888888888888,
           "#fdca26"
          ],
          [
           1,
           "#f0f921"
          ]
         ]
        },
        "legend": {
         "tracegroupgap": 0
        },
        "template": {
         "data": {
          "bar": [
           {
            "error_x": {
             "color": "#2a3f5f"
            },
            "error_y": {
             "color": "#2a3f5f"
            },
            "marker": {
             "line": {
              "color": "#E5ECF6",
              "width": 0.5
             },
             "pattern": {
              "fillmode": "overlay",
              "size": 10,
              "solidity": 0.2
             }
            },
            "type": "bar"
           }
          ],
          "barpolar": [
           {
            "marker": {
             "line": {
              "color": "#E5ECF6",
              "width": 0.5
             },
             "pattern": {
              "fillmode": "overlay",
              "size": 10,
              "solidity": 0.2
             }
            },
            "type": "barpolar"
           }
          ],
          "carpet": [
           {
            "aaxis": {
             "endlinecolor": "#2a3f5f",
             "gridcolor": "white",
             "linecolor": "white",
             "minorgridcolor": "white",
             "startlinecolor": "#2a3f5f"
            },
            "baxis": {
             "endlinecolor": "#2a3f5f",
             "gridcolor": "white",
             "linecolor": "white",
             "minorgridcolor": "white",
             "startlinecolor": "#2a3f5f"
            },
            "type": "carpet"
           }
          ],
          "choropleth": [
           {
            "colorbar": {
             "outlinewidth": 0,
             "ticks": ""
            },
            "type": "choropleth"
           }
          ],
          "contour": [
           {
            "colorbar": {
             "outlinewidth": 0,
             "ticks": ""
            },
            "colorscale": [
             [
              0,
              "#0d0887"
             ],
             [
              0.1111111111111111,
              "#46039f"
             ],
             [
              0.2222222222222222,
              "#7201a8"
             ],
             [
              0.3333333333333333,
              "#9c179e"
             ],
             [
              0.4444444444444444,
              "#bd3786"
             ],
             [
              0.5555555555555556,
              "#d8576b"
             ],
             [
              0.6666666666666666,
              "#ed7953"
             ],
             [
              0.7777777777777778,
              "#fb9f3a"
             ],
             [
              0.8888888888888888,
              "#fdca26"
             ],
             [
              1,
              "#f0f921"
             ]
            ],
            "type": "contour"
           }
          ],
          "contourcarpet": [
           {
            "colorbar": {
             "outlinewidth": 0,
             "ticks": ""
            },
            "type": "contourcarpet"
           }
          ],
          "heatmap": [
           {
            "colorbar": {
             "outlinewidth": 0,
             "ticks": ""
            },
            "colorscale": [
             [
              0,
              "#0d0887"
             ],
             [
              0.1111111111111111,
              "#46039f"
             ],
             [
              0.2222222222222222,
              "#7201a8"
             ],
             [
              0.3333333333333333,
              "#9c179e"
             ],
             [
              0.4444444444444444,
              "#bd3786"
             ],
             [
              0.5555555555555556,
              "#d8576b"
             ],
             [
              0.6666666666666666,
              "#ed7953"
             ],
             [
              0.7777777777777778,
              "#fb9f3a"
             ],
             [
              0.8888888888888888,
              "#fdca26"
             ],
             [
              1,
              "#f0f921"
             ]
            ],
            "type": "heatmap"
           }
          ],
          "heatmapgl": [
           {
            "colorbar": {
             "outlinewidth": 0,
             "ticks": ""
            },
            "colorscale": [
             [
              0,
              "#0d0887"
             ],
             [
              0.1111111111111111,
              "#46039f"
             ],
             [
              0.2222222222222222,
              "#7201a8"
             ],
             [
              0.3333333333333333,
              "#9c179e"
             ],
             [
              0.4444444444444444,
              "#bd3786"
             ],
             [
              0.5555555555555556,
              "#d8576b"
             ],
             [
              0.6666666666666666,
              "#ed7953"
             ],
             [
              0.7777777777777778,
              "#fb9f3a"
             ],
             [
              0.8888888888888888,
              "#fdca26"
             ],
             [
              1,
              "#f0f921"
             ]
            ],
            "type": "heatmapgl"
           }
          ],
          "histogram": [
           {
            "marker": {
             "pattern": {
              "fillmode": "overlay",
              "size": 10,
              "solidity": 0.2
             }
            },
            "type": "histogram"
           }
          ],
          "histogram2d": [
           {
            "colorbar": {
             "outlinewidth": 0,
             "ticks": ""
            },
            "colorscale": [
             [
              0,
              "#0d0887"
             ],
             [
              0.1111111111111111,
              "#46039f"
             ],
             [
              0.2222222222222222,
              "#7201a8"
             ],
             [
              0.3333333333333333,
              "#9c179e"
             ],
             [
              0.4444444444444444,
              "#bd3786"
             ],
             [
              0.5555555555555556,
              "#d8576b"
             ],
             [
              0.6666666666666666,
              "#ed7953"
             ],
             [
              0.7777777777777778,
              "#fb9f3a"
             ],
             [
              0.8888888888888888,
              "#fdca26"
             ],
             [
              1,
              "#f0f921"
             ]
            ],
            "type": "histogram2d"
           }
          ],
          "histogram2dcontour": [
           {
            "colorbar": {
             "outlinewidth": 0,
             "ticks": ""
            },
            "colorscale": [
             [
              0,
              "#0d0887"
             ],
             [
              0.1111111111111111,
              "#46039f"
             ],
             [
              0.2222222222222222,
              "#7201a8"
             ],
             [
              0.3333333333333333,
              "#9c179e"
             ],
             [
              0.4444444444444444,
              "#bd3786"
             ],
             [
              0.5555555555555556,
              "#d8576b"
             ],
             [
              0.6666666666666666,
              "#ed7953"
             ],
             [
              0.7777777777777778,
              "#fb9f3a"
             ],
             [
              0.8888888888888888,
              "#fdca26"
             ],
             [
              1,
              "#f0f921"
             ]
            ],
            "type": "histogram2dcontour"
           }
          ],
          "mesh3d": [
           {
            "colorbar": {
             "outlinewidth": 0,
             "ticks": ""
            },
            "type": "mesh3d"
           }
          ],
          "parcoords": [
           {
            "line": {
             "colorbar": {
              "outlinewidth": 0,
              "ticks": ""
             }
            },
            "type": "parcoords"
           }
          ],
          "pie": [
           {
            "automargin": true,
            "type": "pie"
           }
          ],
          "scatter": [
           {
            "fillpattern": {
             "fillmode": "overlay",
             "size": 10,
             "solidity": 0.2
            },
            "type": "scatter"
           }
          ],
          "scatter3d": [
           {
            "line": {
             "colorbar": {
              "outlinewidth": 0,
              "ticks": ""
             }
            },
            "marker": {
             "colorbar": {
              "outlinewidth": 0,
              "ticks": ""
             }
            },
            "type": "scatter3d"
           }
          ],
          "scattercarpet": [
           {
            "marker": {
             "colorbar": {
              "outlinewidth": 0,
              "ticks": ""
             }
            },
            "type": "scattercarpet"
           }
          ],
          "scattergeo": [
           {
            "marker": {
             "colorbar": {
              "outlinewidth": 0,
              "ticks": ""
             }
            },
            "type": "scattergeo"
           }
          ],
          "scattergl": [
           {
            "marker": {
             "colorbar": {
              "outlinewidth": 0,
              "ticks": ""
             }
            },
            "type": "scattergl"
           }
          ],
          "scattermapbox": [
           {
            "marker": {
             "colorbar": {
              "outlinewidth": 0,
              "ticks": ""
             }
            },
            "type": "scattermapbox"
           }
          ],
          "scatterpolar": [
           {
            "marker": {
             "colorbar": {
              "outlinewidth": 0,
              "ticks": ""
             }
            },
            "type": "scatterpolar"
           }
          ],
          "scatterpolargl": [
           {
            "marker": {
             "colorbar": {
              "outlinewidth": 0,
              "ticks": ""
             }
            },
            "type": "scatterpolargl"
           }
          ],
          "scatterternary": [
           {
            "marker": {
             "colorbar": {
              "outlinewidth": 0,
              "ticks": ""
             }
            },
            "type": "scatterternary"
           }
          ],
          "surface": [
           {
            "colorbar": {
             "outlinewidth": 0,
             "ticks": ""
            },
            "colorscale": [
             [
              0,
              "#0d0887"
             ],
             [
              0.1111111111111111,
              "#46039f"
             ],
             [
              0.2222222222222222,
              "#7201a8"
             ],
             [
              0.3333333333333333,
              "#9c179e"
             ],
             [
              0.4444444444444444,
              "#bd3786"
             ],
             [
              0.5555555555555556,
              "#d8576b"
             ],
             [
              0.6666666666666666,
              "#ed7953"
             ],
             [
              0.7777777777777778,
              "#fb9f3a"
             ],
             [
              0.8888888888888888,
              "#fdca26"
             ],
             [
              1,
              "#f0f921"
             ]
            ],
            "type": "surface"
           }
          ],
          "table": [
           {
            "cells": {
             "fill": {
              "color": "#EBF0F8"
             },
             "line": {
              "color": "white"
             }
            },
            "header": {
             "fill": {
              "color": "#C8D4E3"
             },
             "line": {
              "color": "white"
             }
            },
            "type": "table"
           }
          ]
         },
         "layout": {
          "annotationdefaults": {
           "arrowcolor": "#2a3f5f",
           "arrowhead": 0,
           "arrowwidth": 1
          },
          "autotypenumbers": "strict",
          "coloraxis": {
           "colorbar": {
            "outlinewidth": 0,
            "ticks": ""
           }
          },
          "colorscale": {
           "diverging": [
            [
             0,
             "#8e0152"
            ],
            [
             0.1,
             "#c51b7d"
            ],
            [
             0.2,
             "#de77ae"
            ],
            [
             0.3,
             "#f1b6da"
            ],
            [
             0.4,
             "#fde0ef"
            ],
            [
             0.5,
             "#f7f7f7"
            ],
            [
             0.6,
             "#e6f5d0"
            ],
            [
             0.7,
             "#b8e186"
            ],
            [
             0.8,
             "#7fbc41"
            ],
            [
             0.9,
             "#4d9221"
            ],
            [
             1,
             "#276419"
            ]
           ],
           "sequential": [
            [
             0,
             "#0d0887"
            ],
            [
             0.1111111111111111,
             "#46039f"
            ],
            [
             0.2222222222222222,
             "#7201a8"
            ],
            [
             0.3333333333333333,
             "#9c179e"
            ],
            [
             0.4444444444444444,
             "#bd3786"
            ],
            [
             0.5555555555555556,
             "#d8576b"
            ],
            [
             0.6666666666666666,
             "#ed7953"
            ],
            [
             0.7777777777777778,
             "#fb9f3a"
            ],
            [
             0.8888888888888888,
             "#fdca26"
            ],
            [
             1,
             "#f0f921"
            ]
           ],
           "sequentialminus": [
            [
             0,
             "#0d0887"
            ],
            [
             0.1111111111111111,
             "#46039f"
            ],
            [
             0.2222222222222222,
             "#7201a8"
            ],
            [
             0.3333333333333333,
             "#9c179e"
            ],
            [
             0.4444444444444444,
             "#bd3786"
            ],
            [
             0.5555555555555556,
             "#d8576b"
            ],
            [
             0.6666666666666666,
             "#ed7953"
            ],
            [
             0.7777777777777778,
             "#fb9f3a"
            ],
            [
             0.8888888888888888,
             "#fdca26"
            ],
            [
             1,
             "#f0f921"
            ]
           ]
          },
          "colorway": [
           "#636efa",
           "#EF553B",
           "#00cc96",
           "#ab63fa",
           "#FFA15A",
           "#19d3f3",
           "#FF6692",
           "#B6E880",
           "#FF97FF",
           "#FECB52"
          ],
          "font": {
           "color": "#2a3f5f"
          },
          "geo": {
           "bgcolor": "white",
           "lakecolor": "white",
           "landcolor": "#E5ECF6",
           "showlakes": true,
           "showland": true,
           "subunitcolor": "white"
          },
          "hoverlabel": {
           "align": "left"
          },
          "hovermode": "closest",
          "mapbox": {
           "style": "light"
          },
          "paper_bgcolor": "white",
          "plot_bgcolor": "#E5ECF6",
          "polar": {
           "angularaxis": {
            "gridcolor": "white",
            "linecolor": "white",
            "ticks": ""
           },
           "bgcolor": "#E5ECF6",
           "radialaxis": {
            "gridcolor": "white",
            "linecolor": "white",
            "ticks": ""
           }
          },
          "scene": {
           "xaxis": {
            "backgroundcolor": "#E5ECF6",
            "gridcolor": "white",
            "gridwidth": 2,
            "linecolor": "white",
            "showbackground": true,
            "ticks": "",
            "zerolinecolor": "white"
           },
           "yaxis": {
            "backgroundcolor": "#E5ECF6",
            "gridcolor": "white",
            "gridwidth": 2,
            "linecolor": "white",
            "showbackground": true,
            "ticks": "",
            "zerolinecolor": "white"
           },
           "zaxis": {
            "backgroundcolor": "#E5ECF6",
            "gridcolor": "white",
            "gridwidth": 2,
            "linecolor": "white",
            "showbackground": true,
            "ticks": "",
            "zerolinecolor": "white"
           }
          },
          "shapedefaults": {
           "line": {
            "color": "#2a3f5f"
           }
          },
          "ternary": {
           "aaxis": {
            "gridcolor": "white",
            "linecolor": "white",
            "ticks": ""
           },
           "baxis": {
            "gridcolor": "white",
            "linecolor": "white",
            "ticks": ""
           },
           "bgcolor": "#E5ECF6",
           "caxis": {
            "gridcolor": "white",
            "linecolor": "white",
            "ticks": ""
           }
          },
          "title": {
           "x": 0.05
          },
          "xaxis": {
           "automargin": true,
           "gridcolor": "white",
           "linecolor": "white",
           "ticks": "",
           "title": {
            "standoff": 15
           },
           "zerolinecolor": "white",
           "zerolinewidth": 2
          },
          "yaxis": {
           "automargin": true,
           "gridcolor": "white",
           "linecolor": "white",
           "ticks": "",
           "title": {
            "standoff": 15
           },
           "zerolinecolor": "white",
           "zerolinewidth": 2
          }
         }
        },
        "title": {
         "text": "Age Category by Year"
        }
       }
      }
     },
     "metadata": {},
     "output_type": "display_data"
    }
   ],
   "source": [
    "fig = px.treemap(df_usia, path=['year', 'Age Category'], values='count', color='count', title=\"Age Category by Year\")\n",
    "\n",
    "fig.show()"
   ]
  },
  {
   "cell_type": "markdown",
   "metadata": {},
   "source": [
    "Dilihat pada grafik di atas, dapat diketahui bahwa dari tahun 2021 sampai 2023 dengan jumlah pembelian paling banyak berada pada kategori usia 'Dewasa Akhir'. Lalu untuk jumlah pembelian paling sedikit pada kategori usia 'Manula'. Untuk kategori Dewasa dan Lansia mendominasi dalam jumlah pembelian setiap tahun dengan nilai yang tidak berbeda jauh. Maka dari itu, untuk strategi penjualan akan lebih menargetkan orang dengan rentang usia 26 - 35 tahun."
   ]
  },
  {
   "cell_type": "markdown",
   "metadata": {},
   "source": [
    "#### Kapan jumlah pembelian terbanyak dilakukan setiap bulan dari tahun 2021 - 2023?."
   ]
  },
  {
   "cell_type": "markdown",
   "metadata": {},
   "source": [
    "Pada tahap ini, digunakan kolom 'month name' dan 'total'. Dimana kolom total akan dijumlahkan per bulan tahun dari kolom 'month name'. Untuk melihat pada bulan atau rentang bulan mana yang memiliki peningkatan jumlah pembelian atau sales terbesar."
   ]
  },
  {
   "cell_type": "code",
   "execution_count": 21,
   "metadata": {},
   "outputs": [],
   "source": [
    "df_group = df.groupby('Month Name')['Total'].sum().reset_index()\n",
    "df_group =  df_group.sort_values('Month Name', ascending=True)"
   ]
  },
  {
   "cell_type": "markdown",
   "metadata": {},
   "source": [
    "Dikarenakan data kontinu dimana menggunakan kolom 'month name' yang berisi bulan dan tahun maka akan digunakan grafik garis atau line chart sebagai visualisasi data."
   ]
  },
  {
   "cell_type": "code",
   "execution_count": 22,
   "metadata": {},
   "outputs": [
    {
     "data": {
      "application/vnd.plotly.v1+json": {
       "config": {
        "plotlyServerURL": "https://plot.ly"
       },
       "data": [
        {
         "hovertemplate": "x=%{x}<br>Total=%{y}<extra></extra>",
         "legendgroup": "",
         "line": {
          "color": "#636efa",
          "dash": "solid"
         },
         "marker": {
          "symbol": "circle"
         },
         "mode": "lines",
         "name": "",
         "orientation": "v",
         "showlegend": false,
         "type": "scatter",
         "x": [
          "Jan 2021",
          "Feb 2021",
          "Mar 2021",
          "Apr 2021",
          "May 2021",
          "Jun 2021",
          "Jul 2021",
          "Aug 2021",
          "Sep 2021",
          "Oct 2021",
          "Nov 2021",
          "Dec 2021",
          "Jan 2022",
          "Feb 2022",
          "Mar 2022",
          "Apr 2022",
          "May 2022",
          "Jun 2022",
          "Jul 2022",
          "Aug 2022",
          "Sep 2022",
          "Oct 2022",
          "Nov 2022",
          "Dec 2022",
          "Jan 2023",
          "Feb 2023",
          "Mar 2023"
         ],
         "xaxis": "x",
         "y": [
          9641614.62,
          8772315.22,
          9455359.379999999,
          9389541.54,
          9771756.97,
          9286271.35,
          10311119.68,
          9630655.7,
          9188165.62,
          10263015.06,
          9265555.29,
          9585200.16,
          9764311.14,
          8344111.92,
          9986685.16,
          9326144.44,
          9947574.129999999,
          9647503.95,
          10067602.95,
          9651705.59,
          9607629.29,
          10282075.37,
          8941584.66,
          9869885.48,
          9485599.83,
          9508662.959999999,
          2514146.79
         ],
         "yaxis": "y"
        }
       ],
       "layout": {
        "legend": {
         "tracegroupgap": 0
        },
        "template": {
         "data": {
          "bar": [
           {
            "error_x": {
             "color": "#2a3f5f"
            },
            "error_y": {
             "color": "#2a3f5f"
            },
            "marker": {
             "line": {
              "color": "#E5ECF6",
              "width": 0.5
             },
             "pattern": {
              "fillmode": "overlay",
              "size": 10,
              "solidity": 0.2
             }
            },
            "type": "bar"
           }
          ],
          "barpolar": [
           {
            "marker": {
             "line": {
              "color": "#E5ECF6",
              "width": 0.5
             },
             "pattern": {
              "fillmode": "overlay",
              "size": 10,
              "solidity": 0.2
             }
            },
            "type": "barpolar"
           }
          ],
          "carpet": [
           {
            "aaxis": {
             "endlinecolor": "#2a3f5f",
             "gridcolor": "white",
             "linecolor": "white",
             "minorgridcolor": "white",
             "startlinecolor": "#2a3f5f"
            },
            "baxis": {
             "endlinecolor": "#2a3f5f",
             "gridcolor": "white",
             "linecolor": "white",
             "minorgridcolor": "white",
             "startlinecolor": "#2a3f5f"
            },
            "type": "carpet"
           }
          ],
          "choropleth": [
           {
            "colorbar": {
             "outlinewidth": 0,
             "ticks": ""
            },
            "type": "choropleth"
           }
          ],
          "contour": [
           {
            "colorbar": {
             "outlinewidth": 0,
             "ticks": ""
            },
            "colorscale": [
             [
              0,
              "#0d0887"
             ],
             [
              0.1111111111111111,
              "#46039f"
             ],
             [
              0.2222222222222222,
              "#7201a8"
             ],
             [
              0.3333333333333333,
              "#9c179e"
             ],
             [
              0.4444444444444444,
              "#bd3786"
             ],
             [
              0.5555555555555556,
              "#d8576b"
             ],
             [
              0.6666666666666666,
              "#ed7953"
             ],
             [
              0.7777777777777778,
              "#fb9f3a"
             ],
             [
              0.8888888888888888,
              "#fdca26"
             ],
             [
              1,
              "#f0f921"
             ]
            ],
            "type": "contour"
           }
          ],
          "contourcarpet": [
           {
            "colorbar": {
             "outlinewidth": 0,
             "ticks": ""
            },
            "type": "contourcarpet"
           }
          ],
          "heatmap": [
           {
            "colorbar": {
             "outlinewidth": 0,
             "ticks": ""
            },
            "colorscale": [
             [
              0,
              "#0d0887"
             ],
             [
              0.1111111111111111,
              "#46039f"
             ],
             [
              0.2222222222222222,
              "#7201a8"
             ],
             [
              0.3333333333333333,
              "#9c179e"
             ],
             [
              0.4444444444444444,
              "#bd3786"
             ],
             [
              0.5555555555555556,
              "#d8576b"
             ],
             [
              0.6666666666666666,
              "#ed7953"
             ],
             [
              0.7777777777777778,
              "#fb9f3a"
             ],
             [
              0.8888888888888888,
              "#fdca26"
             ],
             [
              1,
              "#f0f921"
             ]
            ],
            "type": "heatmap"
           }
          ],
          "heatmapgl": [
           {
            "colorbar": {
             "outlinewidth": 0,
             "ticks": ""
            },
            "colorscale": [
             [
              0,
              "#0d0887"
             ],
             [
              0.1111111111111111,
              "#46039f"
             ],
             [
              0.2222222222222222,
              "#7201a8"
             ],
             [
              0.3333333333333333,
              "#9c179e"
             ],
             [
              0.4444444444444444,
              "#bd3786"
             ],
             [
              0.5555555555555556,
              "#d8576b"
             ],
             [
              0.6666666666666666,
              "#ed7953"
             ],
             [
              0.7777777777777778,
              "#fb9f3a"
             ],
             [
              0.8888888888888888,
              "#fdca26"
             ],
             [
              1,
              "#f0f921"
             ]
            ],
            "type": "heatmapgl"
           }
          ],
          "histogram": [
           {
            "marker": {
             "pattern": {
              "fillmode": "overlay",
              "size": 10,
              "solidity": 0.2
             }
            },
            "type": "histogram"
           }
          ],
          "histogram2d": [
           {
            "colorbar": {
             "outlinewidth": 0,
             "ticks": ""
            },
            "colorscale": [
             [
              0,
              "#0d0887"
             ],
             [
              0.1111111111111111,
              "#46039f"
             ],
             [
              0.2222222222222222,
              "#7201a8"
             ],
             [
              0.3333333333333333,
              "#9c179e"
             ],
             [
              0.4444444444444444,
              "#bd3786"
             ],
             [
              0.5555555555555556,
              "#d8576b"
             ],
             [
              0.6666666666666666,
              "#ed7953"
             ],
             [
              0.7777777777777778,
              "#fb9f3a"
             ],
             [
              0.8888888888888888,
              "#fdca26"
             ],
             [
              1,
              "#f0f921"
             ]
            ],
            "type": "histogram2d"
           }
          ],
          "histogram2dcontour": [
           {
            "colorbar": {
             "outlinewidth": 0,
             "ticks": ""
            },
            "colorscale": [
             [
              0,
              "#0d0887"
             ],
             [
              0.1111111111111111,
              "#46039f"
             ],
             [
              0.2222222222222222,
              "#7201a8"
             ],
             [
              0.3333333333333333,
              "#9c179e"
             ],
             [
              0.4444444444444444,
              "#bd3786"
             ],
             [
              0.5555555555555556,
              "#d8576b"
             ],
             [
              0.6666666666666666,
              "#ed7953"
             ],
             [
              0.7777777777777778,
              "#fb9f3a"
             ],
             [
              0.8888888888888888,
              "#fdca26"
             ],
             [
              1,
              "#f0f921"
             ]
            ],
            "type": "histogram2dcontour"
           }
          ],
          "mesh3d": [
           {
            "colorbar": {
             "outlinewidth": 0,
             "ticks": ""
            },
            "type": "mesh3d"
           }
          ],
          "parcoords": [
           {
            "line": {
             "colorbar": {
              "outlinewidth": 0,
              "ticks": ""
             }
            },
            "type": "parcoords"
           }
          ],
          "pie": [
           {
            "automargin": true,
            "type": "pie"
           }
          ],
          "scatter": [
           {
            "fillpattern": {
             "fillmode": "overlay",
             "size": 10,
             "solidity": 0.2
            },
            "type": "scatter"
           }
          ],
          "scatter3d": [
           {
            "line": {
             "colorbar": {
              "outlinewidth": 0,
              "ticks": ""
             }
            },
            "marker": {
             "colorbar": {
              "outlinewidth": 0,
              "ticks": ""
             }
            },
            "type": "scatter3d"
           }
          ],
          "scattercarpet": [
           {
            "marker": {
             "colorbar": {
              "outlinewidth": 0,
              "ticks": ""
             }
            },
            "type": "scattercarpet"
           }
          ],
          "scattergeo": [
           {
            "marker": {
             "colorbar": {
              "outlinewidth": 0,
              "ticks": ""
             }
            },
            "type": "scattergeo"
           }
          ],
          "scattergl": [
           {
            "marker": {
             "colorbar": {
              "outlinewidth": 0,
              "ticks": ""
             }
            },
            "type": "scattergl"
           }
          ],
          "scattermapbox": [
           {
            "marker": {
             "colorbar": {
              "outlinewidth": 0,
              "ticks": ""
             }
            },
            "type": "scattermapbox"
           }
          ],
          "scatterpolar": [
           {
            "marker": {
             "colorbar": {
              "outlinewidth": 0,
              "ticks": ""
             }
            },
            "type": "scatterpolar"
           }
          ],
          "scatterpolargl": [
           {
            "marker": {
             "colorbar": {
              "outlinewidth": 0,
              "ticks": ""
             }
            },
            "type": "scatterpolargl"
           }
          ],
          "scatterternary": [
           {
            "marker": {
             "colorbar": {
              "outlinewidth": 0,
              "ticks": ""
             }
            },
            "type": "scatterternary"
           }
          ],
          "surface": [
           {
            "colorbar": {
             "outlinewidth": 0,
             "ticks": ""
            },
            "colorscale": [
             [
              0,
              "#0d0887"
             ],
             [
              0.1111111111111111,
              "#46039f"
             ],
             [
              0.2222222222222222,
              "#7201a8"
             ],
             [
              0.3333333333333333,
              "#9c179e"
             ],
             [
              0.4444444444444444,
              "#bd3786"
             ],
             [
              0.5555555555555556,
              "#d8576b"
             ],
             [
              0.6666666666666666,
              "#ed7953"
             ],
             [
              0.7777777777777778,
              "#fb9f3a"
             ],
             [
              0.8888888888888888,
              "#fdca26"
             ],
             [
              1,
              "#f0f921"
             ]
            ],
            "type": "surface"
           }
          ],
          "table": [
           {
            "cells": {
             "fill": {
              "color": "#EBF0F8"
             },
             "line": {
              "color": "white"
             }
            },
            "header": {
             "fill": {
              "color": "#C8D4E3"
             },
             "line": {
              "color": "white"
             }
            },
            "type": "table"
           }
          ]
         },
         "layout": {
          "annotationdefaults": {
           "arrowcolor": "#2a3f5f",
           "arrowhead": 0,
           "arrowwidth": 1
          },
          "autotypenumbers": "strict",
          "coloraxis": {
           "colorbar": {
            "outlinewidth": 0,
            "ticks": ""
           }
          },
          "colorscale": {
           "diverging": [
            [
             0,
             "#8e0152"
            ],
            [
             0.1,
             "#c51b7d"
            ],
            [
             0.2,
             "#de77ae"
            ],
            [
             0.3,
             "#f1b6da"
            ],
            [
             0.4,
             "#fde0ef"
            ],
            [
             0.5,
             "#f7f7f7"
            ],
            [
             0.6,
             "#e6f5d0"
            ],
            [
             0.7,
             "#b8e186"
            ],
            [
             0.8,
             "#7fbc41"
            ],
            [
             0.9,
             "#4d9221"
            ],
            [
             1,
             "#276419"
            ]
           ],
           "sequential": [
            [
             0,
             "#0d0887"
            ],
            [
             0.1111111111111111,
             "#46039f"
            ],
            [
             0.2222222222222222,
             "#7201a8"
            ],
            [
             0.3333333333333333,
             "#9c179e"
            ],
            [
             0.4444444444444444,
             "#bd3786"
            ],
            [
             0.5555555555555556,
             "#d8576b"
            ],
            [
             0.6666666666666666,
             "#ed7953"
            ],
            [
             0.7777777777777778,
             "#fb9f3a"
            ],
            [
             0.8888888888888888,
             "#fdca26"
            ],
            [
             1,
             "#f0f921"
            ]
           ],
           "sequentialminus": [
            [
             0,
             "#0d0887"
            ],
            [
             0.1111111111111111,
             "#46039f"
            ],
            [
             0.2222222222222222,
             "#7201a8"
            ],
            [
             0.3333333333333333,
             "#9c179e"
            ],
            [
             0.4444444444444444,
             "#bd3786"
            ],
            [
             0.5555555555555556,
             "#d8576b"
            ],
            [
             0.6666666666666666,
             "#ed7953"
            ],
            [
             0.7777777777777778,
             "#fb9f3a"
            ],
            [
             0.8888888888888888,
             "#fdca26"
            ],
            [
             1,
             "#f0f921"
            ]
           ]
          },
          "colorway": [
           "#636efa",
           "#EF553B",
           "#00cc96",
           "#ab63fa",
           "#FFA15A",
           "#19d3f3",
           "#FF6692",
           "#B6E880",
           "#FF97FF",
           "#FECB52"
          ],
          "font": {
           "color": "#2a3f5f"
          },
          "geo": {
           "bgcolor": "white",
           "lakecolor": "white",
           "landcolor": "#E5ECF6",
           "showlakes": true,
           "showland": true,
           "subunitcolor": "white"
          },
          "hoverlabel": {
           "align": "left"
          },
          "hovermode": "closest",
          "mapbox": {
           "style": "light"
          },
          "paper_bgcolor": "white",
          "plot_bgcolor": "#E5ECF6",
          "polar": {
           "angularaxis": {
            "gridcolor": "white",
            "linecolor": "white",
            "ticks": ""
           },
           "bgcolor": "#E5ECF6",
           "radialaxis": {
            "gridcolor": "white",
            "linecolor": "white",
            "ticks": ""
           }
          },
          "scene": {
           "xaxis": {
            "backgroundcolor": "#E5ECF6",
            "gridcolor": "white",
            "gridwidth": 2,
            "linecolor": "white",
            "showbackground": true,
            "ticks": "",
            "zerolinecolor": "white"
           },
           "yaxis": {
            "backgroundcolor": "#E5ECF6",
            "gridcolor": "white",
            "gridwidth": 2,
            "linecolor": "white",
            "showbackground": true,
            "ticks": "",
            "zerolinecolor": "white"
           },
           "zaxis": {
            "backgroundcolor": "#E5ECF6",
            "gridcolor": "white",
            "gridwidth": 2,
            "linecolor": "white",
            "showbackground": true,
            "ticks": "",
            "zerolinecolor": "white"
           }
          },
          "shapedefaults": {
           "line": {
            "color": "#2a3f5f"
           }
          },
          "ternary": {
           "aaxis": {
            "gridcolor": "white",
            "linecolor": "white",
            "ticks": ""
           },
           "baxis": {
            "gridcolor": "white",
            "linecolor": "white",
            "ticks": ""
           },
           "bgcolor": "#E5ECF6",
           "caxis": {
            "gridcolor": "white",
            "linecolor": "white",
            "ticks": ""
           }
          },
          "title": {
           "x": 0.05
          },
          "xaxis": {
           "automargin": true,
           "gridcolor": "white",
           "linecolor": "white",
           "ticks": "",
           "title": {
            "standoff": 15
           },
           "zerolinecolor": "white",
           "zerolinewidth": 2
          },
          "yaxis": {
           "automargin": true,
           "gridcolor": "white",
           "linecolor": "white",
           "ticks": "",
           "title": {
            "standoff": 15
           },
           "zerolinecolor": "white",
           "zerolinewidth": 2
          }
         }
        },
        "title": {
         "text": "Sales by Month Year",
         "x": 0.5
        },
        "xaxis": {
         "anchor": "y",
         "domain": [
          0,
          1
         ],
         "tickangle": 90,
         "title": {
          "text": "Invoice Date"
         }
        },
        "yaxis": {
         "anchor": "x",
         "domain": [
          0,
          1
         ],
         "title": {
          "text": "Total"
         }
        }
       }
      }
     },
     "metadata": {},
     "output_type": "display_data"
    }
   ],
   "source": [
    "line = px.line(df_group, x=df_group['Month Name'].dt.strftime('%b %Y'), y='Total', title='Sales by Month Year')\n",
    "\n",
    "line.update_xaxes(tickangle=90)\n",
    "line.update_layout(xaxis_title=\"Invoice Date\", title_x=0.5)\n",
    "line.show()"
   ]
  },
  {
   "cell_type": "markdown",
   "metadata": {},
   "source": [
    "Dari grafik di atas, dapat disimpulkan bahwa pada bulan juli dan oktober setiap tahun(2021 dan 2022) memiliki nilai sales yang paling tinggi untuk setiap tahunnya. Pada bulan juli 2021 terjadi pengingkatan sekitar 11.2% dari bulan juni 2021. Lalu pada bulan oktober 2021 terjadi peningkatan sekitar 11.67% dari bulan september 2021. Dari bulan juli 2022 terjadi peningkatan penjualan sekitar 4.25% dari bulan juni 2022. Setelah itu pada bulan oktober 2022 terjadi peningkatan penjualan sekitar 6.07% dari bulan september 2022. Maka dari itu strategi penjualan yang harus dibuat pada bulan juli dan oktober agar nilai sales dapat meningkat dikarenakan terjadinya penurunan persentase peningkatan antara tahun 2021 dan 2022.\n",
    "\n",
    "Untuk per 3 bulan dapat dilihat pada bulan febuari setiap tahun memiliki value penjualan yang terendah. Tetapi dapat dilihat dalam 3 bulan sampai bulan mei terdapat peningkatan yang signifikan yaitu pada tahun 2021 sekitar 11,4% dan pada tahun 2022 sekitar 19.18%. Sehingga dapat disimpulkan jika dibuat strategi penjualan dimulai dari bulan februari sampai bulan mei dapat diketahui peningkatan yang akan dihasilkan dari 11,4% sampai 19.18%."
   ]
  },
  {
   "cell_type": "markdown",
   "metadata": {},
   "source": [
    "#### Kapan jumlah peningkatan pembelian tertinggi dalam 3 bulan(februari - mei) sesuai dengan 3 kategori terbesar dari tahun 2021 - 2023?"
   ]
  },
  {
   "cell_type": "markdown",
   "metadata": {},
   "source": [
    "Pada tahap ini akan menggunakan kolom 'month name', 'total' dan 'kategori'. Dimana kolom kategori akan diambil 3 kategori dengan jumlah sales terbesar. Untuk mengetahui peningkatan dari februari sampai mei pada 3 kategori yang memiliki penjualan terbesar."
   ]
  },
  {
   "cell_type": "code",
   "execution_count": 23,
   "metadata": {},
   "outputs": [],
   "source": [
    "df_bar = df.groupby('category')['Total'].sum().reset_index().sort_values('Total', ascending=False)"
   ]
  },
  {
   "cell_type": "code",
   "execution_count": 24,
   "metadata": {},
   "outputs": [
    {
     "data": {
      "text/html": [
       "<div>\n",
       "<style scoped>\n",
       "    .dataframe tbody tr th:only-of-type {\n",
       "        vertical-align: middle;\n",
       "    }\n",
       "\n",
       "    .dataframe tbody tr th {\n",
       "        vertical-align: top;\n",
       "    }\n",
       "\n",
       "    .dataframe thead th {\n",
       "        text-align: right;\n",
       "    }\n",
       "</style>\n",
       "<table border=\"1\" class=\"dataframe\">\n",
       "  <thead>\n",
       "    <tr style=\"text-align: right;\">\n",
       "      <th></th>\n",
       "      <th>category</th>\n",
       "      <th>Total</th>\n",
       "    </tr>\n",
       "  </thead>\n",
       "  <tbody>\n",
       "    <tr>\n",
       "      <th>1</th>\n",
       "      <td>Clothing</td>\n",
       "      <td>1.139968e+08</td>\n",
       "    </tr>\n",
       "    <tr>\n",
       "      <th>4</th>\n",
       "      <td>Shoes</td>\n",
       "      <td>6.655345e+07</td>\n",
       "    </tr>\n",
       "    <tr>\n",
       "      <th>6</th>\n",
       "      <td>Technology</td>\n",
       "      <td>5.786235e+07</td>\n",
       "    </tr>\n",
       "    <tr>\n",
       "      <th>2</th>\n",
       "      <td>Cosmetics</td>\n",
       "      <td>6.792863e+06</td>\n",
       "    </tr>\n",
       "    <tr>\n",
       "      <th>7</th>\n",
       "      <td>Toys</td>\n",
       "      <td>3.980426e+06</td>\n",
       "    </tr>\n",
       "    <tr>\n",
       "      <th>3</th>\n",
       "      <td>Food &amp; Beverage</td>\n",
       "      <td>8.495351e+05</td>\n",
       "    </tr>\n",
       "    <tr>\n",
       "      <th>0</th>\n",
       "      <td>Books</td>\n",
       "      <td>8.345529e+05</td>\n",
       "    </tr>\n",
       "    <tr>\n",
       "      <th>5</th>\n",
       "      <td>Souvenir</td>\n",
       "      <td>6.358247e+05</td>\n",
       "    </tr>\n",
       "  </tbody>\n",
       "</table>\n",
       "</div>"
      ],
      "text/plain": [
       "          category         Total\n",
       "1         Clothing  1.139968e+08\n",
       "4            Shoes  6.655345e+07\n",
       "6       Technology  5.786235e+07\n",
       "2        Cosmetics  6.792863e+06\n",
       "7             Toys  3.980426e+06\n",
       "3  Food & Beverage  8.495351e+05\n",
       "0            Books  8.345529e+05\n",
       "5         Souvenir  6.358247e+05"
      ]
     },
     "execution_count": 24,
     "metadata": {},
     "output_type": "execute_result"
    }
   ],
   "source": [
    "df_bar"
   ]
  },
  {
   "cell_type": "markdown",
   "metadata": {},
   "source": [
    "Dari cel di atas, dapat diketahui bahwa 3 kategori yang memiliki jumlah penjualan atau sales terbesar adalah 'Clothing', 'Shoes' dan 'Technology'. Maka dari itu, data akan di filter hanya dengan ketiga kategori tersebut."
   ]
  },
  {
   "cell_type": "code",
   "execution_count": 25,
   "metadata": {},
   "outputs": [],
   "source": [
    "df_bar = df[(df['category'] == 'Clothing') | (df['category'] == \"Shoes\") | (df['category'] == 'Technology')]\n",
    "df_bar = df_bar.groupby(['category','Month Name'])['Total'].sum().reset_index()\n",
    "df_bar =  df_bar.sort_values('Month Name', ascending=True)"
   ]
  },
  {
   "cell_type": "code",
   "execution_count": 26,
   "metadata": {},
   "outputs": [
    {
     "data": {
      "text/html": [
       "<div>\n",
       "<style scoped>\n",
       "    .dataframe tbody tr th:only-of-type {\n",
       "        vertical-align: middle;\n",
       "    }\n",
       "\n",
       "    .dataframe tbody tr th {\n",
       "        vertical-align: top;\n",
       "    }\n",
       "\n",
       "    .dataframe thead th {\n",
       "        text-align: right;\n",
       "    }\n",
       "</style>\n",
       "<table border=\"1\" class=\"dataframe\">\n",
       "  <thead>\n",
       "    <tr style=\"text-align: right;\">\n",
       "      <th></th>\n",
       "      <th>category</th>\n",
       "      <th>Month Name</th>\n",
       "      <th>Total</th>\n",
       "    </tr>\n",
       "  </thead>\n",
       "  <tbody>\n",
       "    <tr>\n",
       "      <th>0</th>\n",
       "      <td>Clothing</td>\n",
       "      <td>2021-01</td>\n",
       "      <td>4303447.28</td>\n",
       "    </tr>\n",
       "    <tr>\n",
       "      <th>54</th>\n",
       "      <td>Technology</td>\n",
       "      <td>2021-01</td>\n",
       "      <td>2168250.00</td>\n",
       "    </tr>\n",
       "    <tr>\n",
       "      <th>27</th>\n",
       "      <td>Shoes</td>\n",
       "      <td>2021-01</td>\n",
       "      <td>2674957.69</td>\n",
       "    </tr>\n",
       "    <tr>\n",
       "      <th>1</th>\n",
       "      <td>Clothing</td>\n",
       "      <td>2021-02</td>\n",
       "      <td>3903740.72</td>\n",
       "    </tr>\n",
       "    <tr>\n",
       "      <th>55</th>\n",
       "      <td>Technology</td>\n",
       "      <td>2021-02</td>\n",
       "      <td>1938300.00</td>\n",
       "    </tr>\n",
       "    <tr>\n",
       "      <th>...</th>\n",
       "      <td>...</td>\n",
       "      <td>...</td>\n",
       "      <td>...</td>\n",
       "    </tr>\n",
       "    <tr>\n",
       "      <th>52</th>\n",
       "      <td>Shoes</td>\n",
       "      <td>2023-02</td>\n",
       "      <td>2332260.62</td>\n",
       "    </tr>\n",
       "    <tr>\n",
       "      <th>25</th>\n",
       "      <td>Clothing</td>\n",
       "      <td>2023-02</td>\n",
       "      <td>4208321.92</td>\n",
       "    </tr>\n",
       "    <tr>\n",
       "      <th>53</th>\n",
       "      <td>Shoes</td>\n",
       "      <td>2023-03</td>\n",
       "      <td>702799.07</td>\n",
       "    </tr>\n",
       "    <tr>\n",
       "      <th>26</th>\n",
       "      <td>Clothing</td>\n",
       "      <td>2023-03</td>\n",
       "      <td>1157708.64</td>\n",
       "    </tr>\n",
       "    <tr>\n",
       "      <th>80</th>\n",
       "      <td>Technology</td>\n",
       "      <td>2023-03</td>\n",
       "      <td>530250.00</td>\n",
       "    </tr>\n",
       "  </tbody>\n",
       "</table>\n",
       "<p>81 rows × 3 columns</p>\n",
       "</div>"
      ],
      "text/plain": [
       "      category Month Name       Total\n",
       "0     Clothing    2021-01  4303447.28\n",
       "54  Technology    2021-01  2168250.00\n",
       "27       Shoes    2021-01  2674957.69\n",
       "1     Clothing    2021-02  3903740.72\n",
       "55  Technology    2021-02  1938300.00\n",
       "..         ...        ...         ...\n",
       "52       Shoes    2023-02  2332260.62\n",
       "25    Clothing    2023-02  4208321.92\n",
       "53       Shoes    2023-03   702799.07\n",
       "26    Clothing    2023-03  1157708.64\n",
       "80  Technology    2023-03   530250.00\n",
       "\n",
       "[81 rows x 3 columns]"
      ]
     },
     "execution_count": 26,
     "metadata": {},
     "output_type": "execute_result"
    }
   ],
   "source": [
    "df_bar"
   ]
  },
  {
   "cell_type": "markdown",
   "metadata": {},
   "source": [
    "Dikarenakan data kontinu dimana menggunakan kolom 'month name' yang berisi bulan dan tahun maka akan digunakan multiline chart sebagai visualisasi data."
   ]
  },
  {
   "cell_type": "code",
   "execution_count": 27,
   "metadata": {},
   "outputs": [
    {
     "data": {
      "application/vnd.plotly.v1+json": {
       "config": {
        "plotlyServerURL": "https://plot.ly"
       },
       "data": [
        {
         "hovertemplate": "category=Clothing<br>x=%{x}<br>Total=%{y}<extra></extra>",
         "legendgroup": "Clothing",
         "line": {
          "color": "#636efa",
          "dash": "solid"
         },
         "marker": {
          "symbol": "circle"
         },
         "mode": "lines",
         "name": "Clothing",
         "orientation": "v",
         "showlegend": true,
         "type": "scatter",
         "x": [
          "Jan 2021",
          "Feb 2021",
          "Mar 2021",
          "Apr 2021",
          "May 2021",
          "Jun 2021",
          "Jul 2021",
          "Aug 2021",
          "Sep 2021",
          "Oct 2021",
          "Nov 2021",
          "Dec 2021",
          "Jan 2022",
          "Feb 2022",
          "Mar 2022",
          "Apr 2022",
          "May 2022",
          "Jun 2022",
          "Jul 2022",
          "Aug 2022",
          "Sep 2022",
          "Oct 2022",
          "Nov 2022",
          "Dec 2022",
          "Jan 2023",
          "Feb 2023",
          "Mar 2023"
         ],
         "xaxis": "x",
         "y": [
          4303447.28,
          3903740.7199999997,
          4474792.96,
          4574119.44,
          4360762.56,
          4281241.36,
          4892204.24,
          4066684.16,
          4225426.4799999995,
          4351460.08,
          4635035.68,
          4536009.28,
          4417477.68,
          3898039.2,
          4525206.4,
          4273439.28,
          4501200,
          4188216.56,
          4587923.12,
          4266237.36,
          4179814.32,
          4610429.12,
          4064283.52,
          4241630.8,
          4271938.88,
          4208321.92,
          1157708.64
         ],
         "yaxis": "y"
        },
        {
         "hovertemplate": "category=Technology<br>x=%{x}<br>Total=%{y}<extra></extra>",
         "legendgroup": "Technology",
         "line": {
          "color": "#EF553B",
          "dash": "solid"
         },
         "marker": {
          "symbol": "circle"
         },
         "mode": "lines",
         "name": "Technology",
         "orientation": "v",
         "showlegend": true,
         "type": "scatter",
         "x": [
          "Jan 2021",
          "Feb 2021",
          "Mar 2021",
          "Apr 2021",
          "May 2021",
          "Jun 2021",
          "Jul 2021",
          "Aug 2021",
          "Sep 2021",
          "Oct 2021",
          "Nov 2021",
          "Dec 2021",
          "Jan 2022",
          "Feb 2022",
          "Mar 2022",
          "Apr 2022",
          "May 2022",
          "Jun 2022",
          "Jul 2022",
          "Aug 2022",
          "Sep 2022",
          "Oct 2022",
          "Nov 2022",
          "Dec 2022",
          "Jan 2023",
          "Feb 2023",
          "Mar 2023"
         ],
         "xaxis": "x",
         "y": [
          2168250,
          1938300,
          1991850,
          2047500,
          2123100,
          2196600,
          2318400,
          2387700,
          2238600,
          2584050,
          1818600,
          2138850,
          2406600,
          1890000,
          2089500,
          1967700,
          2256450,
          2222850,
          2221800,
          2186100,
          2284800,
          2676450,
          1960350,
          2488500,
          2233350,
          2495850,
          530250
         ],
         "yaxis": "y"
        },
        {
         "hovertemplate": "category=Shoes<br>x=%{x}<br>Total=%{y}<extra></extra>",
         "legendgroup": "Shoes",
         "line": {
          "color": "#00cc96",
          "dash": "solid"
         },
         "marker": {
          "symbol": "circle"
         },
         "mode": "lines",
         "name": "Shoes",
         "orientation": "v",
         "showlegend": true,
         "type": "scatter",
         "x": [
          "Jan 2021",
          "Feb 2021",
          "Mar 2021",
          "Apr 2021",
          "May 2021",
          "Jun 2021",
          "Jul 2021",
          "Aug 2021",
          "Sep 2021",
          "Oct 2021",
          "Nov 2021",
          "Dec 2021",
          "Jan 2022",
          "Feb 2022",
          "Mar 2022",
          "Apr 2022",
          "May 2022",
          "Jun 2022",
          "Jul 2022",
          "Aug 2022",
          "Sep 2022",
          "Oct 2022",
          "Nov 2022",
          "Dec 2022",
          "Jan 2023",
          "Feb 2023",
          "Mar 2023"
         ],
         "xaxis": "x",
         "y": [
          2674957.69,
          2483503.46,
          2501508.56,
          2304652.8,
          2775786.25,
          2310654.5,
          2592134.23,
          2692362.62,
          2244635.8,
          2828001.04,
          2314255.52,
          2403080.6799999997,
          2408482.21,
          2110797.89,
          2841204.78,
          2598135.9299999997,
          2688761.6,
          2742176.73,
          2773385.57,
          2658152.9299999997,
          2634146.13,
          2464898.19,
          2388676.6,
          2635946.64,
          2448093.4299999997,
          2332260.62,
          702799.07
         ],
         "yaxis": "y"
        }
       ],
       "layout": {
        "legend": {
         "title": {
          "text": "category"
         },
         "tracegroupgap": 0
        },
        "template": {
         "data": {
          "bar": [
           {
            "error_x": {
             "color": "#2a3f5f"
            },
            "error_y": {
             "color": "#2a3f5f"
            },
            "marker": {
             "line": {
              "color": "#E5ECF6",
              "width": 0.5
             },
             "pattern": {
              "fillmode": "overlay",
              "size": 10,
              "solidity": 0.2
             }
            },
            "type": "bar"
           }
          ],
          "barpolar": [
           {
            "marker": {
             "line": {
              "color": "#E5ECF6",
              "width": 0.5
             },
             "pattern": {
              "fillmode": "overlay",
              "size": 10,
              "solidity": 0.2
             }
            },
            "type": "barpolar"
           }
          ],
          "carpet": [
           {
            "aaxis": {
             "endlinecolor": "#2a3f5f",
             "gridcolor": "white",
             "linecolor": "white",
             "minorgridcolor": "white",
             "startlinecolor": "#2a3f5f"
            },
            "baxis": {
             "endlinecolor": "#2a3f5f",
             "gridcolor": "white",
             "linecolor": "white",
             "minorgridcolor": "white",
             "startlinecolor": "#2a3f5f"
            },
            "type": "carpet"
           }
          ],
          "choropleth": [
           {
            "colorbar": {
             "outlinewidth": 0,
             "ticks": ""
            },
            "type": "choropleth"
           }
          ],
          "contour": [
           {
            "colorbar": {
             "outlinewidth": 0,
             "ticks": ""
            },
            "colorscale": [
             [
              0,
              "#0d0887"
             ],
             [
              0.1111111111111111,
              "#46039f"
             ],
             [
              0.2222222222222222,
              "#7201a8"
             ],
             [
              0.3333333333333333,
              "#9c179e"
             ],
             [
              0.4444444444444444,
              "#bd3786"
             ],
             [
              0.5555555555555556,
              "#d8576b"
             ],
             [
              0.6666666666666666,
              "#ed7953"
             ],
             [
              0.7777777777777778,
              "#fb9f3a"
             ],
             [
              0.8888888888888888,
              "#fdca26"
             ],
             [
              1,
              "#f0f921"
             ]
            ],
            "type": "contour"
           }
          ],
          "contourcarpet": [
           {
            "colorbar": {
             "outlinewidth": 0,
             "ticks": ""
            },
            "type": "contourcarpet"
           }
          ],
          "heatmap": [
           {
            "colorbar": {
             "outlinewidth": 0,
             "ticks": ""
            },
            "colorscale": [
             [
              0,
              "#0d0887"
             ],
             [
              0.1111111111111111,
              "#46039f"
             ],
             [
              0.2222222222222222,
              "#7201a8"
             ],
             [
              0.3333333333333333,
              "#9c179e"
             ],
             [
              0.4444444444444444,
              "#bd3786"
             ],
             [
              0.5555555555555556,
              "#d8576b"
             ],
             [
              0.6666666666666666,
              "#ed7953"
             ],
             [
              0.7777777777777778,
              "#fb9f3a"
             ],
             [
              0.8888888888888888,
              "#fdca26"
             ],
             [
              1,
              "#f0f921"
             ]
            ],
            "type": "heatmap"
           }
          ],
          "heatmapgl": [
           {
            "colorbar": {
             "outlinewidth": 0,
             "ticks": ""
            },
            "colorscale": [
             [
              0,
              "#0d0887"
             ],
             [
              0.1111111111111111,
              "#46039f"
             ],
             [
              0.2222222222222222,
              "#7201a8"
             ],
             [
              0.3333333333333333,
              "#9c179e"
             ],
             [
              0.4444444444444444,
              "#bd3786"
             ],
             [
              0.5555555555555556,
              "#d8576b"
             ],
             [
              0.6666666666666666,
              "#ed7953"
             ],
             [
              0.7777777777777778,
              "#fb9f3a"
             ],
             [
              0.8888888888888888,
              "#fdca26"
             ],
             [
              1,
              "#f0f921"
             ]
            ],
            "type": "heatmapgl"
           }
          ],
          "histogram": [
           {
            "marker": {
             "pattern": {
              "fillmode": "overlay",
              "size": 10,
              "solidity": 0.2
             }
            },
            "type": "histogram"
           }
          ],
          "histogram2d": [
           {
            "colorbar": {
             "outlinewidth": 0,
             "ticks": ""
            },
            "colorscale": [
             [
              0,
              "#0d0887"
             ],
             [
              0.1111111111111111,
              "#46039f"
             ],
             [
              0.2222222222222222,
              "#7201a8"
             ],
             [
              0.3333333333333333,
              "#9c179e"
             ],
             [
              0.4444444444444444,
              "#bd3786"
             ],
             [
              0.5555555555555556,
              "#d8576b"
             ],
             [
              0.6666666666666666,
              "#ed7953"
             ],
             [
              0.7777777777777778,
              "#fb9f3a"
             ],
             [
              0.8888888888888888,
              "#fdca26"
             ],
             [
              1,
              "#f0f921"
             ]
            ],
            "type": "histogram2d"
           }
          ],
          "histogram2dcontour": [
           {
            "colorbar": {
             "outlinewidth": 0,
             "ticks": ""
            },
            "colorscale": [
             [
              0,
              "#0d0887"
             ],
             [
              0.1111111111111111,
              "#46039f"
             ],
             [
              0.2222222222222222,
              "#7201a8"
             ],
             [
              0.3333333333333333,
              "#9c179e"
             ],
             [
              0.4444444444444444,
              "#bd3786"
             ],
             [
              0.5555555555555556,
              "#d8576b"
             ],
             [
              0.6666666666666666,
              "#ed7953"
             ],
             [
              0.7777777777777778,
              "#fb9f3a"
             ],
             [
              0.8888888888888888,
              "#fdca26"
             ],
             [
              1,
              "#f0f921"
             ]
            ],
            "type": "histogram2dcontour"
           }
          ],
          "mesh3d": [
           {
            "colorbar": {
             "outlinewidth": 0,
             "ticks": ""
            },
            "type": "mesh3d"
           }
          ],
          "parcoords": [
           {
            "line": {
             "colorbar": {
              "outlinewidth": 0,
              "ticks": ""
             }
            },
            "type": "parcoords"
           }
          ],
          "pie": [
           {
            "automargin": true,
            "type": "pie"
           }
          ],
          "scatter": [
           {
            "fillpattern": {
             "fillmode": "overlay",
             "size": 10,
             "solidity": 0.2
            },
            "type": "scatter"
           }
          ],
          "scatter3d": [
           {
            "line": {
             "colorbar": {
              "outlinewidth": 0,
              "ticks": ""
             }
            },
            "marker": {
             "colorbar": {
              "outlinewidth": 0,
              "ticks": ""
             }
            },
            "type": "scatter3d"
           }
          ],
          "scattercarpet": [
           {
            "marker": {
             "colorbar": {
              "outlinewidth": 0,
              "ticks": ""
             }
            },
            "type": "scattercarpet"
           }
          ],
          "scattergeo": [
           {
            "marker": {
             "colorbar": {
              "outlinewidth": 0,
              "ticks": ""
             }
            },
            "type": "scattergeo"
           }
          ],
          "scattergl": [
           {
            "marker": {
             "colorbar": {
              "outlinewidth": 0,
              "ticks": ""
             }
            },
            "type": "scattergl"
           }
          ],
          "scattermapbox": [
           {
            "marker": {
             "colorbar": {
              "outlinewidth": 0,
              "ticks": ""
             }
            },
            "type": "scattermapbox"
           }
          ],
          "scatterpolar": [
           {
            "marker": {
             "colorbar": {
              "outlinewidth": 0,
              "ticks": ""
             }
            },
            "type": "scatterpolar"
           }
          ],
          "scatterpolargl": [
           {
            "marker": {
             "colorbar": {
              "outlinewidth": 0,
              "ticks": ""
             }
            },
            "type": "scatterpolargl"
           }
          ],
          "scatterternary": [
           {
            "marker": {
             "colorbar": {
              "outlinewidth": 0,
              "ticks": ""
             }
            },
            "type": "scatterternary"
           }
          ],
          "surface": [
           {
            "colorbar": {
             "outlinewidth": 0,
             "ticks": ""
            },
            "colorscale": [
             [
              0,
              "#0d0887"
             ],
             [
              0.1111111111111111,
              "#46039f"
             ],
             [
              0.2222222222222222,
              "#7201a8"
             ],
             [
              0.3333333333333333,
              "#9c179e"
             ],
             [
              0.4444444444444444,
              "#bd3786"
             ],
             [
              0.5555555555555556,
              "#d8576b"
             ],
             [
              0.6666666666666666,
              "#ed7953"
             ],
             [
              0.7777777777777778,
              "#fb9f3a"
             ],
             [
              0.8888888888888888,
              "#fdca26"
             ],
             [
              1,
              "#f0f921"
             ]
            ],
            "type": "surface"
           }
          ],
          "table": [
           {
            "cells": {
             "fill": {
              "color": "#EBF0F8"
             },
             "line": {
              "color": "white"
             }
            },
            "header": {
             "fill": {
              "color": "#C8D4E3"
             },
             "line": {
              "color": "white"
             }
            },
            "type": "table"
           }
          ]
         },
         "layout": {
          "annotationdefaults": {
           "arrowcolor": "#2a3f5f",
           "arrowhead": 0,
           "arrowwidth": 1
          },
          "autotypenumbers": "strict",
          "coloraxis": {
           "colorbar": {
            "outlinewidth": 0,
            "ticks": ""
           }
          },
          "colorscale": {
           "diverging": [
            [
             0,
             "#8e0152"
            ],
            [
             0.1,
             "#c51b7d"
            ],
            [
             0.2,
             "#de77ae"
            ],
            [
             0.3,
             "#f1b6da"
            ],
            [
             0.4,
             "#fde0ef"
            ],
            [
             0.5,
             "#f7f7f7"
            ],
            [
             0.6,
             "#e6f5d0"
            ],
            [
             0.7,
             "#b8e186"
            ],
            [
             0.8,
             "#7fbc41"
            ],
            [
             0.9,
             "#4d9221"
            ],
            [
             1,
             "#276419"
            ]
           ],
           "sequential": [
            [
             0,
             "#0d0887"
            ],
            [
             0.1111111111111111,
             "#46039f"
            ],
            [
             0.2222222222222222,
             "#7201a8"
            ],
            [
             0.3333333333333333,
             "#9c179e"
            ],
            [
             0.4444444444444444,
             "#bd3786"
            ],
            [
             0.5555555555555556,
             "#d8576b"
            ],
            [
             0.6666666666666666,
             "#ed7953"
            ],
            [
             0.7777777777777778,
             "#fb9f3a"
            ],
            [
             0.8888888888888888,
             "#fdca26"
            ],
            [
             1,
             "#f0f921"
            ]
           ],
           "sequentialminus": [
            [
             0,
             "#0d0887"
            ],
            [
             0.1111111111111111,
             "#46039f"
            ],
            [
             0.2222222222222222,
             "#7201a8"
            ],
            [
             0.3333333333333333,
             "#9c179e"
            ],
            [
             0.4444444444444444,
             "#bd3786"
            ],
            [
             0.5555555555555556,
             "#d8576b"
            ],
            [
             0.6666666666666666,
             "#ed7953"
            ],
            [
             0.7777777777777778,
             "#fb9f3a"
            ],
            [
             0.8888888888888888,
             "#fdca26"
            ],
            [
             1,
             "#f0f921"
            ]
           ]
          },
          "colorway": [
           "#636efa",
           "#EF553B",
           "#00cc96",
           "#ab63fa",
           "#FFA15A",
           "#19d3f3",
           "#FF6692",
           "#B6E880",
           "#FF97FF",
           "#FECB52"
          ],
          "font": {
           "color": "#2a3f5f"
          },
          "geo": {
           "bgcolor": "white",
           "lakecolor": "white",
           "landcolor": "#E5ECF6",
           "showlakes": true,
           "showland": true,
           "subunitcolor": "white"
          },
          "hoverlabel": {
           "align": "left"
          },
          "hovermode": "closest",
          "mapbox": {
           "style": "light"
          },
          "paper_bgcolor": "white",
          "plot_bgcolor": "#E5ECF6",
          "polar": {
           "angularaxis": {
            "gridcolor": "white",
            "linecolor": "white",
            "ticks": ""
           },
           "bgcolor": "#E5ECF6",
           "radialaxis": {
            "gridcolor": "white",
            "linecolor": "white",
            "ticks": ""
           }
          },
          "scene": {
           "xaxis": {
            "backgroundcolor": "#E5ECF6",
            "gridcolor": "white",
            "gridwidth": 2,
            "linecolor": "white",
            "showbackground": true,
            "ticks": "",
            "zerolinecolor": "white"
           },
           "yaxis": {
            "backgroundcolor": "#E5ECF6",
            "gridcolor": "white",
            "gridwidth": 2,
            "linecolor": "white",
            "showbackground": true,
            "ticks": "",
            "zerolinecolor": "white"
           },
           "zaxis": {
            "backgroundcolor": "#E5ECF6",
            "gridcolor": "white",
            "gridwidth": 2,
            "linecolor": "white",
            "showbackground": true,
            "ticks": "",
            "zerolinecolor": "white"
           }
          },
          "shapedefaults": {
           "line": {
            "color": "#2a3f5f"
           }
          },
          "ternary": {
           "aaxis": {
            "gridcolor": "white",
            "linecolor": "white",
            "ticks": ""
           },
           "baxis": {
            "gridcolor": "white",
            "linecolor": "white",
            "ticks": ""
           },
           "bgcolor": "#E5ECF6",
           "caxis": {
            "gridcolor": "white",
            "linecolor": "white",
            "ticks": ""
           }
          },
          "title": {
           "x": 0.05
          },
          "xaxis": {
           "automargin": true,
           "gridcolor": "white",
           "linecolor": "white",
           "ticks": "",
           "title": {
            "standoff": 15
           },
           "zerolinecolor": "white",
           "zerolinewidth": 2
          },
          "yaxis": {
           "automargin": true,
           "gridcolor": "white",
           "linecolor": "white",
           "ticks": "",
           "title": {
            "standoff": 15
           },
           "zerolinecolor": "white",
           "zerolinewidth": 2
          }
         }
        },
        "title": {
         "text": "Sales Category by Month Year",
         "x": 0.5
        },
        "xaxis": {
         "anchor": "y",
         "domain": [
          0,
          1
         ],
         "tickangle": 90,
         "title": {
          "text": "Invoice Date"
         }
        },
        "yaxis": {
         "anchor": "x",
         "domain": [
          0,
          1
         ],
         "title": {
          "text": "Total"
         }
        }
       }
      }
     },
     "metadata": {},
     "output_type": "display_data"
    }
   ],
   "source": [
    "line = px.line(df_bar, x=df_bar['Month Name'].dt.strftime('%b %Y'), y='Total', color='category', title=\"Sales Category by Month Year\")\n",
    "\n",
    "line.update_xaxes(tickangle=90)\n",
    "line.update_layout(xaxis_title=\"Invoice Date\", title_x=0.5)\n",
    "line.show()"
   ]
  },
  {
   "cell_type": "markdown",
   "metadata": {},
   "source": [
    "Dari kategori 'Clothing' pada bulan februari sampai mei untuk tahun 2021 terjadi peningkatan penjualan sekitar 11.79% dan untuk tahun 2022 sekitar 15.38%. Dari kategori 'Shoes' pada bulan februari sampai mei untuk tahun 2021 terjadi peningkatan penjualan sekitar 12.1% dan untuk tahun 2022 sekitar 27.49%. Dari kategori 'Technology' pada bulan februari sampai mei untuk tahun 2021 terjadi peningkatan penjualan sekitar 9.43% dan untuk tahun 2022 sekitar 19.58%. Maka rata - rata peningkatan untuk setiap tahun dari tahun 2021 sebesar 11.1% dan untuk tahun 2022 sebesar 20.82%. Dari rentang rata - rata tersebut dapat disimpulkan bahwa dalam 3 bulan yaitu dari februari sampai mei jika dilakukan pembuatan strategi penjualan berdasarkan ketiga kategori ini dapat meningkatkan penjualan dari 11.1% sampai 20.82% dimana perkiraan tengahnya adalah 15,96%."
   ]
  },
  {
   "cell_type": "markdown",
   "metadata": {},
   "source": [
    "#### Apakah metode pembayaran yang paling sering dipakai setiap tahun?"
   ]
  },
  {
   "cell_type": "markdown",
   "metadata": {},
   "source": [
    "Pada tahap ini digunakan kolom 'payment_method' dan 'year' akan membandingkan pemakaian payment_method yang berbeda di setiap tahun. Untuk memberikan strategi penjualan dengan metode pembayaran yang paling sering digunakan."
   ]
  },
  {
   "cell_type": "code",
   "execution_count": 28,
   "metadata": {},
   "outputs": [
    {
     "data": {
      "text/html": [
       "<div>\n",
       "<style scoped>\n",
       "    .dataframe tbody tr th:only-of-type {\n",
       "        vertical-align: middle;\n",
       "    }\n",
       "\n",
       "    .dataframe tbody tr th {\n",
       "        vertical-align: top;\n",
       "    }\n",
       "\n",
       "    .dataframe thead th {\n",
       "        text-align: right;\n",
       "    }\n",
       "</style>\n",
       "<table border=\"1\" class=\"dataframe\">\n",
       "  <thead>\n",
       "    <tr style=\"text-align: right;\">\n",
       "      <th></th>\n",
       "      <th>payment_method</th>\n",
       "      <th>year</th>\n",
       "      <th>count</th>\n",
       "    </tr>\n",
       "  </thead>\n",
       "  <tbody>\n",
       "    <tr>\n",
       "      <th>0</th>\n",
       "      <td>Cash</td>\n",
       "      <td>2022</td>\n",
       "      <td>20380</td>\n",
       "    </tr>\n",
       "    <tr>\n",
       "      <th>1</th>\n",
       "      <td>Cash</td>\n",
       "      <td>2021</td>\n",
       "      <td>20241</td>\n",
       "    </tr>\n",
       "    <tr>\n",
       "      <th>2</th>\n",
       "      <td>Cash</td>\n",
       "      <td>2023</td>\n",
       "      <td>3826</td>\n",
       "    </tr>\n",
       "    <tr>\n",
       "      <th>3</th>\n",
       "      <td>Credit Card</td>\n",
       "      <td>2022</td>\n",
       "      <td>16052</td>\n",
       "    </tr>\n",
       "    <tr>\n",
       "      <th>4</th>\n",
       "      <td>Credit Card</td>\n",
       "      <td>2021</td>\n",
       "      <td>15880</td>\n",
       "    </tr>\n",
       "    <tr>\n",
       "      <th>5</th>\n",
       "      <td>Credit Card</td>\n",
       "      <td>2023</td>\n",
       "      <td>2999</td>\n",
       "    </tr>\n",
       "    <tr>\n",
       "      <th>6</th>\n",
       "      <td>Debit Card</td>\n",
       "      <td>2021</td>\n",
       "      <td>9261</td>\n",
       "    </tr>\n",
       "    <tr>\n",
       "      <th>7</th>\n",
       "      <td>Debit Card</td>\n",
       "      <td>2022</td>\n",
       "      <td>9119</td>\n",
       "    </tr>\n",
       "    <tr>\n",
       "      <th>8</th>\n",
       "      <td>Debit Card</td>\n",
       "      <td>2023</td>\n",
       "      <td>1699</td>\n",
       "    </tr>\n",
       "  </tbody>\n",
       "</table>\n",
       "</div>"
      ],
      "text/plain": [
       "  payment_method  year  count\n",
       "0           Cash  2022  20380\n",
       "1           Cash  2021  20241\n",
       "2           Cash  2023   3826\n",
       "3    Credit Card  2022  16052\n",
       "4    Credit Card  2021  15880\n",
       "5    Credit Card  2023   2999\n",
       "6     Debit Card  2021   9261\n",
       "7     Debit Card  2022   9119\n",
       "8     Debit Card  2023   1699"
      ]
     },
     "execution_count": 28,
     "metadata": {},
     "output_type": "execute_result"
    }
   ],
   "source": [
    "df_pay = df.groupby('payment_method')['year'].value_counts().reset_index()\n",
    "df_pay"
   ]
  },
  {
   "cell_type": "markdown",
   "metadata": {},
   "source": [
    "Dikarenakan ingin membandingkan metode pembayaran makan digunakan stacked bar-h chart."
   ]
  },
  {
   "cell_type": "code",
   "execution_count": 29,
   "metadata": {},
   "outputs": [
    {
     "data": {
      "application/vnd.plotly.v1+json": {
       "config": {
        "plotlyServerURL": "https://plot.ly"
       },
       "data": [
        {
         "alignmentgroup": "True",
         "hovertemplate": "payment_method=%{text}<br>count=%{x}<br>year=%{y}<extra></extra>",
         "legendgroup": "Cash",
         "marker": {
          "color": "#636efa",
          "pattern": {
           "shape": ""
          }
         },
         "name": "Cash",
         "offsetgroup": "Cash",
         "orientation": "h",
         "showlegend": true,
         "text": [
          "Cash",
          "Cash",
          "Cash"
         ],
         "textposition": "auto",
         "type": "bar",
         "x": [
          20380,
          20241,
          3826
         ],
         "xaxis": "x",
         "y": [
          2022,
          2021,
          2023
         ],
         "yaxis": "y"
        },
        {
         "alignmentgroup": "True",
         "hovertemplate": "payment_method=%{text}<br>count=%{x}<br>year=%{y}<extra></extra>",
         "legendgroup": "Credit Card",
         "marker": {
          "color": "#EF553B",
          "pattern": {
           "shape": ""
          }
         },
         "name": "Credit Card",
         "offsetgroup": "Credit Card",
         "orientation": "h",
         "showlegend": true,
         "text": [
          "Credit Card",
          "Credit Card",
          "Credit Card"
         ],
         "textposition": "auto",
         "type": "bar",
         "x": [
          16052,
          15880,
          2999
         ],
         "xaxis": "x",
         "y": [
          2022,
          2021,
          2023
         ],
         "yaxis": "y"
        },
        {
         "alignmentgroup": "True",
         "hovertemplate": "payment_method=%{text}<br>count=%{x}<br>year=%{y}<extra></extra>",
         "legendgroup": "Debit Card",
         "marker": {
          "color": "#00cc96",
          "pattern": {
           "shape": ""
          }
         },
         "name": "Debit Card",
         "offsetgroup": "Debit Card",
         "orientation": "h",
         "showlegend": true,
         "text": [
          "Debit Card",
          "Debit Card",
          "Debit Card"
         ],
         "textposition": "auto",
         "type": "bar",
         "x": [
          9261,
          9119,
          1699
         ],
         "xaxis": "x",
         "y": [
          2021,
          2022,
          2023
         ],
         "yaxis": "y"
        }
       ],
       "layout": {
        "barmode": "relative",
        "legend": {
         "title": {
          "text": "payment_method"
         },
         "tracegroupgap": 0
        },
        "template": {
         "data": {
          "bar": [
           {
            "error_x": {
             "color": "#2a3f5f"
            },
            "error_y": {
             "color": "#2a3f5f"
            },
            "marker": {
             "line": {
              "color": "#E5ECF6",
              "width": 0.5
             },
             "pattern": {
              "fillmode": "overlay",
              "size": 10,
              "solidity": 0.2
             }
            },
            "type": "bar"
           }
          ],
          "barpolar": [
           {
            "marker": {
             "line": {
              "color": "#E5ECF6",
              "width": 0.5
             },
             "pattern": {
              "fillmode": "overlay",
              "size": 10,
              "solidity": 0.2
             }
            },
            "type": "barpolar"
           }
          ],
          "carpet": [
           {
            "aaxis": {
             "endlinecolor": "#2a3f5f",
             "gridcolor": "white",
             "linecolor": "white",
             "minorgridcolor": "white",
             "startlinecolor": "#2a3f5f"
            },
            "baxis": {
             "endlinecolor": "#2a3f5f",
             "gridcolor": "white",
             "linecolor": "white",
             "minorgridcolor": "white",
             "startlinecolor": "#2a3f5f"
            },
            "type": "carpet"
           }
          ],
          "choropleth": [
           {
            "colorbar": {
             "outlinewidth": 0,
             "ticks": ""
            },
            "type": "choropleth"
           }
          ],
          "contour": [
           {
            "colorbar": {
             "outlinewidth": 0,
             "ticks": ""
            },
            "colorscale": [
             [
              0,
              "#0d0887"
             ],
             [
              0.1111111111111111,
              "#46039f"
             ],
             [
              0.2222222222222222,
              "#7201a8"
             ],
             [
              0.3333333333333333,
              "#9c179e"
             ],
             [
              0.4444444444444444,
              "#bd3786"
             ],
             [
              0.5555555555555556,
              "#d8576b"
             ],
             [
              0.6666666666666666,
              "#ed7953"
             ],
             [
              0.7777777777777778,
              "#fb9f3a"
             ],
             [
              0.8888888888888888,
              "#fdca26"
             ],
             [
              1,
              "#f0f921"
             ]
            ],
            "type": "contour"
           }
          ],
          "contourcarpet": [
           {
            "colorbar": {
             "outlinewidth": 0,
             "ticks": ""
            },
            "type": "contourcarpet"
           }
          ],
          "heatmap": [
           {
            "colorbar": {
             "outlinewidth": 0,
             "ticks": ""
            },
            "colorscale": [
             [
              0,
              "#0d0887"
             ],
             [
              0.1111111111111111,
              "#46039f"
             ],
             [
              0.2222222222222222,
              "#7201a8"
             ],
             [
              0.3333333333333333,
              "#9c179e"
             ],
             [
              0.4444444444444444,
              "#bd3786"
             ],
             [
              0.5555555555555556,
              "#d8576b"
             ],
             [
              0.6666666666666666,
              "#ed7953"
             ],
             [
              0.7777777777777778,
              "#fb9f3a"
             ],
             [
              0.8888888888888888,
              "#fdca26"
             ],
             [
              1,
              "#f0f921"
             ]
            ],
            "type": "heatmap"
           }
          ],
          "heatmapgl": [
           {
            "colorbar": {
             "outlinewidth": 0,
             "ticks": ""
            },
            "colorscale": [
             [
              0,
              "#0d0887"
             ],
             [
              0.1111111111111111,
              "#46039f"
             ],
             [
              0.2222222222222222,
              "#7201a8"
             ],
             [
              0.3333333333333333,
              "#9c179e"
             ],
             [
              0.4444444444444444,
              "#bd3786"
             ],
             [
              0.5555555555555556,
              "#d8576b"
             ],
             [
              0.6666666666666666,
              "#ed7953"
             ],
             [
              0.7777777777777778,
              "#fb9f3a"
             ],
             [
              0.8888888888888888,
              "#fdca26"
             ],
             [
              1,
              "#f0f921"
             ]
            ],
            "type": "heatmapgl"
           }
          ],
          "histogram": [
           {
            "marker": {
             "pattern": {
              "fillmode": "overlay",
              "size": 10,
              "solidity": 0.2
             }
            },
            "type": "histogram"
           }
          ],
          "histogram2d": [
           {
            "colorbar": {
             "outlinewidth": 0,
             "ticks": ""
            },
            "colorscale": [
             [
              0,
              "#0d0887"
             ],
             [
              0.1111111111111111,
              "#46039f"
             ],
             [
              0.2222222222222222,
              "#7201a8"
             ],
             [
              0.3333333333333333,
              "#9c179e"
             ],
             [
              0.4444444444444444,
              "#bd3786"
             ],
             [
              0.5555555555555556,
              "#d8576b"
             ],
             [
              0.6666666666666666,
              "#ed7953"
             ],
             [
              0.7777777777777778,
              "#fb9f3a"
             ],
             [
              0.8888888888888888,
              "#fdca26"
             ],
             [
              1,
              "#f0f921"
             ]
            ],
            "type": "histogram2d"
           }
          ],
          "histogram2dcontour": [
           {
            "colorbar": {
             "outlinewidth": 0,
             "ticks": ""
            },
            "colorscale": [
             [
              0,
              "#0d0887"
             ],
             [
              0.1111111111111111,
              "#46039f"
             ],
             [
              0.2222222222222222,
              "#7201a8"
             ],
             [
              0.3333333333333333,
              "#9c179e"
             ],
             [
              0.4444444444444444,
              "#bd3786"
             ],
             [
              0.5555555555555556,
              "#d8576b"
             ],
             [
              0.6666666666666666,
              "#ed7953"
             ],
             [
              0.7777777777777778,
              "#fb9f3a"
             ],
             [
              0.8888888888888888,
              "#fdca26"
             ],
             [
              1,
              "#f0f921"
             ]
            ],
            "type": "histogram2dcontour"
           }
          ],
          "mesh3d": [
           {
            "colorbar": {
             "outlinewidth": 0,
             "ticks": ""
            },
            "type": "mesh3d"
           }
          ],
          "parcoords": [
           {
            "line": {
             "colorbar": {
              "outlinewidth": 0,
              "ticks": ""
             }
            },
            "type": "parcoords"
           }
          ],
          "pie": [
           {
            "automargin": true,
            "type": "pie"
           }
          ],
          "scatter": [
           {
            "fillpattern": {
             "fillmode": "overlay",
             "size": 10,
             "solidity": 0.2
            },
            "type": "scatter"
           }
          ],
          "scatter3d": [
           {
            "line": {
             "colorbar": {
              "outlinewidth": 0,
              "ticks": ""
             }
            },
            "marker": {
             "colorbar": {
              "outlinewidth": 0,
              "ticks": ""
             }
            },
            "type": "scatter3d"
           }
          ],
          "scattercarpet": [
           {
            "marker": {
             "colorbar": {
              "outlinewidth": 0,
              "ticks": ""
             }
            },
            "type": "scattercarpet"
           }
          ],
          "scattergeo": [
           {
            "marker": {
             "colorbar": {
              "outlinewidth": 0,
              "ticks": ""
             }
            },
            "type": "scattergeo"
           }
          ],
          "scattergl": [
           {
            "marker": {
             "colorbar": {
              "outlinewidth": 0,
              "ticks": ""
             }
            },
            "type": "scattergl"
           }
          ],
          "scattermapbox": [
           {
            "marker": {
             "colorbar": {
              "outlinewidth": 0,
              "ticks": ""
             }
            },
            "type": "scattermapbox"
           }
          ],
          "scatterpolar": [
           {
            "marker": {
             "colorbar": {
              "outlinewidth": 0,
              "ticks": ""
             }
            },
            "type": "scatterpolar"
           }
          ],
          "scatterpolargl": [
           {
            "marker": {
             "colorbar": {
              "outlinewidth": 0,
              "ticks": ""
             }
            },
            "type": "scatterpolargl"
           }
          ],
          "scatterternary": [
           {
            "marker": {
             "colorbar": {
              "outlinewidth": 0,
              "ticks": ""
             }
            },
            "type": "scatterternary"
           }
          ],
          "surface": [
           {
            "colorbar": {
             "outlinewidth": 0,
             "ticks": ""
            },
            "colorscale": [
             [
              0,
              "#0d0887"
             ],
             [
              0.1111111111111111,
              "#46039f"
             ],
             [
              0.2222222222222222,
              "#7201a8"
             ],
             [
              0.3333333333333333,
              "#9c179e"
             ],
             [
              0.4444444444444444,
              "#bd3786"
             ],
             [
              0.5555555555555556,
              "#d8576b"
             ],
             [
              0.6666666666666666,
              "#ed7953"
             ],
             [
              0.7777777777777778,
              "#fb9f3a"
             ],
             [
              0.8888888888888888,
              "#fdca26"
             ],
             [
              1,
              "#f0f921"
             ]
            ],
            "type": "surface"
           }
          ],
          "table": [
           {
            "cells": {
             "fill": {
              "color": "#EBF0F8"
             },
             "line": {
              "color": "white"
             }
            },
            "header": {
             "fill": {
              "color": "#C8D4E3"
             },
             "line": {
              "color": "white"
             }
            },
            "type": "table"
           }
          ]
         },
         "layout": {
          "annotationdefaults": {
           "arrowcolor": "#2a3f5f",
           "arrowhead": 0,
           "arrowwidth": 1
          },
          "autotypenumbers": "strict",
          "coloraxis": {
           "colorbar": {
            "outlinewidth": 0,
            "ticks": ""
           }
          },
          "colorscale": {
           "diverging": [
            [
             0,
             "#8e0152"
            ],
            [
             0.1,
             "#c51b7d"
            ],
            [
             0.2,
             "#de77ae"
            ],
            [
             0.3,
             "#f1b6da"
            ],
            [
             0.4,
             "#fde0ef"
            ],
            [
             0.5,
             "#f7f7f7"
            ],
            [
             0.6,
             "#e6f5d0"
            ],
            [
             0.7,
             "#b8e186"
            ],
            [
             0.8,
             "#7fbc41"
            ],
            [
             0.9,
             "#4d9221"
            ],
            [
             1,
             "#276419"
            ]
           ],
           "sequential": [
            [
             0,
             "#0d0887"
            ],
            [
             0.1111111111111111,
             "#46039f"
            ],
            [
             0.2222222222222222,
             "#7201a8"
            ],
            [
             0.3333333333333333,
             "#9c179e"
            ],
            [
             0.4444444444444444,
             "#bd3786"
            ],
            [
             0.5555555555555556,
             "#d8576b"
            ],
            [
             0.6666666666666666,
             "#ed7953"
            ],
            [
             0.7777777777777778,
             "#fb9f3a"
            ],
            [
             0.8888888888888888,
             "#fdca26"
            ],
            [
             1,
             "#f0f921"
            ]
           ],
           "sequentialminus": [
            [
             0,
             "#0d0887"
            ],
            [
             0.1111111111111111,
             "#46039f"
            ],
            [
             0.2222222222222222,
             "#7201a8"
            ],
            [
             0.3333333333333333,
             "#9c179e"
            ],
            [
             0.4444444444444444,
             "#bd3786"
            ],
            [
             0.5555555555555556,
             "#d8576b"
            ],
            [
             0.6666666666666666,
             "#ed7953"
            ],
            [
             0.7777777777777778,
             "#fb9f3a"
            ],
            [
             0.8888888888888888,
             "#fdca26"
            ],
            [
             1,
             "#f0f921"
            ]
           ]
          },
          "colorway": [
           "#636efa",
           "#EF553B",
           "#00cc96",
           "#ab63fa",
           "#FFA15A",
           "#19d3f3",
           "#FF6692",
           "#B6E880",
           "#FF97FF",
           "#FECB52"
          ],
          "font": {
           "color": "#2a3f5f"
          },
          "geo": {
           "bgcolor": "white",
           "lakecolor": "white",
           "landcolor": "#E5ECF6",
           "showlakes": true,
           "showland": true,
           "subunitcolor": "white"
          },
          "hoverlabel": {
           "align": "left"
          },
          "hovermode": "closest",
          "mapbox": {
           "style": "light"
          },
          "paper_bgcolor": "white",
          "plot_bgcolor": "#E5ECF6",
          "polar": {
           "angularaxis": {
            "gridcolor": "white",
            "linecolor": "white",
            "ticks": ""
           },
           "bgcolor": "#E5ECF6",
           "radialaxis": {
            "gridcolor": "white",
            "linecolor": "white",
            "ticks": ""
           }
          },
          "scene": {
           "xaxis": {
            "backgroundcolor": "#E5ECF6",
            "gridcolor": "white",
            "gridwidth": 2,
            "linecolor": "white",
            "showbackground": true,
            "ticks": "",
            "zerolinecolor": "white"
           },
           "yaxis": {
            "backgroundcolor": "#E5ECF6",
            "gridcolor": "white",
            "gridwidth": 2,
            "linecolor": "white",
            "showbackground": true,
            "ticks": "",
            "zerolinecolor": "white"
           },
           "zaxis": {
            "backgroundcolor": "#E5ECF6",
            "gridcolor": "white",
            "gridwidth": 2,
            "linecolor": "white",
            "showbackground": true,
            "ticks": "",
            "zerolinecolor": "white"
           }
          },
          "shapedefaults": {
           "line": {
            "color": "#2a3f5f"
           }
          },
          "ternary": {
           "aaxis": {
            "gridcolor": "white",
            "linecolor": "white",
            "ticks": ""
           },
           "baxis": {
            "gridcolor": "white",
            "linecolor": "white",
            "ticks": ""
           },
           "bgcolor": "#E5ECF6",
           "caxis": {
            "gridcolor": "white",
            "linecolor": "white",
            "ticks": ""
           }
          },
          "title": {
           "x": 0.05
          },
          "xaxis": {
           "automargin": true,
           "gridcolor": "white",
           "linecolor": "white",
           "ticks": "",
           "title": {
            "standoff": 15
           },
           "zerolinecolor": "white",
           "zerolinewidth": 2
          },
          "yaxis": {
           "automargin": true,
           "gridcolor": "white",
           "linecolor": "white",
           "ticks": "",
           "title": {
            "standoff": 15
           },
           "zerolinecolor": "white",
           "zerolinewidth": 2
          }
         }
        },
        "title": {
         "text": "Number of Payment Method by Year"
        },
        "xaxis": {
         "anchor": "y",
         "domain": [
          0,
          1
         ],
         "title": {
          "text": "count"
         }
        },
        "yaxis": {
         "anchor": "x",
         "domain": [
          0,
          1
         ],
         "title": {
          "text": "year"
         },
         "type": "category"
        }
       }
      }
     },
     "metadata": {},
     "output_type": "display_data"
    }
   ],
   "source": [
    "fig = px.bar(df_pay, x='count', y='year', color='payment_method', text='payment_method', orientation='h', title=\"Number of Payment Method by Year\")\n",
    "\n",
    "# Membuat y axes atau year menampilkan data sebagai integer\n",
    "fig.update_yaxes(type='category')\n",
    "fig.show()"
   ]
  },
  {
   "cell_type": "markdown",
   "metadata": {},
   "source": [
    "Dari grafik di atas, dapat diketahui bahwa metode pembayaran yang paling banyak adalah cash. Dari data tersebut maka dapat dirancang strategi penjualan dengan metode pembayaran cash. Tetapi bisa juga menggunakan metode pembayaran credit card sebagai data terbesar kedua dengan bekerja sama dengan pihak bank atau perusahaan yang mengeluarkan kartu kredit sehingga tidak menambah pengeluaran dikarenakan yang akan menanggung biaya strategi penjualan adalah pihak perusahaan atau bank kartu kredit."
   ]
  },
  {
   "cell_type": "markdown",
   "metadata": {},
   "source": [
    "#### Dimana tempat perbelanjaan yang memiliki jumlah penjualan terbanyak?"
   ]
  },
  {
   "cell_type": "markdown",
   "metadata": {},
   "source": [
    "Pada tahap ini akan menggunakan kolom 'shopping_mall' dengan menghitung value transaksi setiap mall yang digunakan sehingga mengetahui pusat transaksi berada pada mall mana."
   ]
  },
  {
   "cell_type": "code",
   "execution_count": 30,
   "metadata": {},
   "outputs": [
    {
     "data": {
      "text/html": [
       "<div>\n",
       "<style scoped>\n",
       "    .dataframe tbody tr th:only-of-type {\n",
       "        vertical-align: middle;\n",
       "    }\n",
       "\n",
       "    .dataframe tbody tr th {\n",
       "        vertical-align: top;\n",
       "    }\n",
       "\n",
       "    .dataframe thead th {\n",
       "        text-align: right;\n",
       "    }\n",
       "</style>\n",
       "<table border=\"1\" class=\"dataframe\">\n",
       "  <thead>\n",
       "    <tr style=\"text-align: right;\">\n",
       "      <th></th>\n",
       "      <th>shopping_mall</th>\n",
       "      <th>count</th>\n",
       "    </tr>\n",
       "  </thead>\n",
       "  <tbody>\n",
       "    <tr>\n",
       "      <th>0</th>\n",
       "      <td>Mall of Istanbul</td>\n",
       "      <td>19943</td>\n",
       "    </tr>\n",
       "    <tr>\n",
       "      <th>1</th>\n",
       "      <td>Kanyon</td>\n",
       "      <td>19823</td>\n",
       "    </tr>\n",
       "    <tr>\n",
       "      <th>2</th>\n",
       "      <td>Metrocity</td>\n",
       "      <td>15011</td>\n",
       "    </tr>\n",
       "    <tr>\n",
       "      <th>3</th>\n",
       "      <td>Metropol AVM</td>\n",
       "      <td>10161</td>\n",
       "    </tr>\n",
       "    <tr>\n",
       "      <th>4</th>\n",
       "      <td>Istinye Park</td>\n",
       "      <td>9781</td>\n",
       "    </tr>\n",
       "    <tr>\n",
       "      <th>5</th>\n",
       "      <td>Zorlu Center</td>\n",
       "      <td>5075</td>\n",
       "    </tr>\n",
       "    <tr>\n",
       "      <th>6</th>\n",
       "      <td>Cevahir AVM</td>\n",
       "      <td>4991</td>\n",
       "    </tr>\n",
       "    <tr>\n",
       "      <th>7</th>\n",
       "      <td>Forum Istanbul</td>\n",
       "      <td>4947</td>\n",
       "    </tr>\n",
       "    <tr>\n",
       "      <th>8</th>\n",
       "      <td>Viaport Outlet</td>\n",
       "      <td>4914</td>\n",
       "    </tr>\n",
       "    <tr>\n",
       "      <th>9</th>\n",
       "      <td>Emaar Square Mall</td>\n",
       "      <td>4811</td>\n",
       "    </tr>\n",
       "  </tbody>\n",
       "</table>\n",
       "</div>"
      ],
      "text/plain": [
       "       shopping_mall  count\n",
       "0   Mall of Istanbul  19943\n",
       "1             Kanyon  19823\n",
       "2          Metrocity  15011\n",
       "3       Metropol AVM  10161\n",
       "4       Istinye Park   9781\n",
       "5       Zorlu Center   5075\n",
       "6        Cevahir AVM   4991\n",
       "7     Forum Istanbul   4947\n",
       "8     Viaport Outlet   4914\n",
       "9  Emaar Square Mall   4811"
      ]
     },
     "execution_count": 30,
     "metadata": {},
     "output_type": "execute_result"
    }
   ],
   "source": [
    "df_mal = df['shopping_mall'].value_counts().reset_index()\n",
    "df_mal"
   ]
  },
  {
   "cell_type": "markdown",
   "metadata": {},
   "source": [
    "Untuk membandingkan jumlah transaksi yang dilakukan pada setiap mall maka digunakan bar chart."
   ]
  },
  {
   "cell_type": "code",
   "execution_count": 31,
   "metadata": {},
   "outputs": [
    {
     "data": {
      "application/vnd.plotly.v1+json": {
       "config": {
        "plotlyServerURL": "https://plot.ly"
       },
       "data": [
        {
         "alignmentgroup": "True",
         "hovertemplate": "shopping_mall=%{x}<br>count=%{y}<extra></extra>",
         "legendgroup": "",
         "marker": {
          "color": "#636efa",
          "pattern": {
           "shape": ""
          }
         },
         "name": "",
         "offsetgroup": "",
         "orientation": "v",
         "showlegend": false,
         "textposition": "auto",
         "type": "bar",
         "x": [
          "Mall of Istanbul",
          "Kanyon",
          "Metrocity",
          "Metropol AVM",
          "Istinye Park",
          "Zorlu Center",
          "Cevahir AVM",
          "Forum Istanbul",
          "Viaport Outlet",
          "Emaar Square Mall"
         ],
         "xaxis": "x",
         "y": [
          19943,
          19823,
          15011,
          10161,
          9781,
          5075,
          4991,
          4947,
          4914,
          4811
         ],
         "yaxis": "y"
        }
       ],
       "layout": {
        "barmode": "relative",
        "legend": {
         "tracegroupgap": 0
        },
        "template": {
         "data": {
          "bar": [
           {
            "error_x": {
             "color": "#2a3f5f"
            },
            "error_y": {
             "color": "#2a3f5f"
            },
            "marker": {
             "line": {
              "color": "#E5ECF6",
              "width": 0.5
             },
             "pattern": {
              "fillmode": "overlay",
              "size": 10,
              "solidity": 0.2
             }
            },
            "type": "bar"
           }
          ],
          "barpolar": [
           {
            "marker": {
             "line": {
              "color": "#E5ECF6",
              "width": 0.5
             },
             "pattern": {
              "fillmode": "overlay",
              "size": 10,
              "solidity": 0.2
             }
            },
            "type": "barpolar"
           }
          ],
          "carpet": [
           {
            "aaxis": {
             "endlinecolor": "#2a3f5f",
             "gridcolor": "white",
             "linecolor": "white",
             "minorgridcolor": "white",
             "startlinecolor": "#2a3f5f"
            },
            "baxis": {
             "endlinecolor": "#2a3f5f",
             "gridcolor": "white",
             "linecolor": "white",
             "minorgridcolor": "white",
             "startlinecolor": "#2a3f5f"
            },
            "type": "carpet"
           }
          ],
          "choropleth": [
           {
            "colorbar": {
             "outlinewidth": 0,
             "ticks": ""
            },
            "type": "choropleth"
           }
          ],
          "contour": [
           {
            "colorbar": {
             "outlinewidth": 0,
             "ticks": ""
            },
            "colorscale": [
             [
              0,
              "#0d0887"
             ],
             [
              0.1111111111111111,
              "#46039f"
             ],
             [
              0.2222222222222222,
              "#7201a8"
             ],
             [
              0.3333333333333333,
              "#9c179e"
             ],
             [
              0.4444444444444444,
              "#bd3786"
             ],
             [
              0.5555555555555556,
              "#d8576b"
             ],
             [
              0.6666666666666666,
              "#ed7953"
             ],
             [
              0.7777777777777778,
              "#fb9f3a"
             ],
             [
              0.8888888888888888,
              "#fdca26"
             ],
             [
              1,
              "#f0f921"
             ]
            ],
            "type": "contour"
           }
          ],
          "contourcarpet": [
           {
            "colorbar": {
             "outlinewidth": 0,
             "ticks": ""
            },
            "type": "contourcarpet"
           }
          ],
          "heatmap": [
           {
            "colorbar": {
             "outlinewidth": 0,
             "ticks": ""
            },
            "colorscale": [
             [
              0,
              "#0d0887"
             ],
             [
              0.1111111111111111,
              "#46039f"
             ],
             [
              0.2222222222222222,
              "#7201a8"
             ],
             [
              0.3333333333333333,
              "#9c179e"
             ],
             [
              0.4444444444444444,
              "#bd3786"
             ],
             [
              0.5555555555555556,
              "#d8576b"
             ],
             [
              0.6666666666666666,
              "#ed7953"
             ],
             [
              0.7777777777777778,
              "#fb9f3a"
             ],
             [
              0.8888888888888888,
              "#fdca26"
             ],
             [
              1,
              "#f0f921"
             ]
            ],
            "type": "heatmap"
           }
          ],
          "heatmapgl": [
           {
            "colorbar": {
             "outlinewidth": 0,
             "ticks": ""
            },
            "colorscale": [
             [
              0,
              "#0d0887"
             ],
             [
              0.1111111111111111,
              "#46039f"
             ],
             [
              0.2222222222222222,
              "#7201a8"
             ],
             [
              0.3333333333333333,
              "#9c179e"
             ],
             [
              0.4444444444444444,
              "#bd3786"
             ],
             [
              0.5555555555555556,
              "#d8576b"
             ],
             [
              0.6666666666666666,
              "#ed7953"
             ],
             [
              0.7777777777777778,
              "#fb9f3a"
             ],
             [
              0.8888888888888888,
              "#fdca26"
             ],
             [
              1,
              "#f0f921"
             ]
            ],
            "type": "heatmapgl"
           }
          ],
          "histogram": [
           {
            "marker": {
             "pattern": {
              "fillmode": "overlay",
              "size": 10,
              "solidity": 0.2
             }
            },
            "type": "histogram"
           }
          ],
          "histogram2d": [
           {
            "colorbar": {
             "outlinewidth": 0,
             "ticks": ""
            },
            "colorscale": [
             [
              0,
              "#0d0887"
             ],
             [
              0.1111111111111111,
              "#46039f"
             ],
             [
              0.2222222222222222,
              "#7201a8"
             ],
             [
              0.3333333333333333,
              "#9c179e"
             ],
             [
              0.4444444444444444,
              "#bd3786"
             ],
             [
              0.5555555555555556,
              "#d8576b"
             ],
             [
              0.6666666666666666,
              "#ed7953"
             ],
             [
              0.7777777777777778,
              "#fb9f3a"
             ],
             [
              0.8888888888888888,
              "#fdca26"
             ],
             [
              1,
              "#f0f921"
             ]
            ],
            "type": "histogram2d"
           }
          ],
          "histogram2dcontour": [
           {
            "colorbar": {
             "outlinewidth": 0,
             "ticks": ""
            },
            "colorscale": [
             [
              0,
              "#0d0887"
             ],
             [
              0.1111111111111111,
              "#46039f"
             ],
             [
              0.2222222222222222,
              "#7201a8"
             ],
             [
              0.3333333333333333,
              "#9c179e"
             ],
             [
              0.4444444444444444,
              "#bd3786"
             ],
             [
              0.5555555555555556,
              "#d8576b"
             ],
             [
              0.6666666666666666,
              "#ed7953"
             ],
             [
              0.7777777777777778,
              "#fb9f3a"
             ],
             [
              0.8888888888888888,
              "#fdca26"
             ],
             [
              1,
              "#f0f921"
             ]
            ],
            "type": "histogram2dcontour"
           }
          ],
          "mesh3d": [
           {
            "colorbar": {
             "outlinewidth": 0,
             "ticks": ""
            },
            "type": "mesh3d"
           }
          ],
          "parcoords": [
           {
            "line": {
             "colorbar": {
              "outlinewidth": 0,
              "ticks": ""
             }
            },
            "type": "parcoords"
           }
          ],
          "pie": [
           {
            "automargin": true,
            "type": "pie"
           }
          ],
          "scatter": [
           {
            "fillpattern": {
             "fillmode": "overlay",
             "size": 10,
             "solidity": 0.2
            },
            "type": "scatter"
           }
          ],
          "scatter3d": [
           {
            "line": {
             "colorbar": {
              "outlinewidth": 0,
              "ticks": ""
             }
            },
            "marker": {
             "colorbar": {
              "outlinewidth": 0,
              "ticks": ""
             }
            },
            "type": "scatter3d"
           }
          ],
          "scattercarpet": [
           {
            "marker": {
             "colorbar": {
              "outlinewidth": 0,
              "ticks": ""
             }
            },
            "type": "scattercarpet"
           }
          ],
          "scattergeo": [
           {
            "marker": {
             "colorbar": {
              "outlinewidth": 0,
              "ticks": ""
             }
            },
            "type": "scattergeo"
           }
          ],
          "scattergl": [
           {
            "marker": {
             "colorbar": {
              "outlinewidth": 0,
              "ticks": ""
             }
            },
            "type": "scattergl"
           }
          ],
          "scattermapbox": [
           {
            "marker": {
             "colorbar": {
              "outlinewidth": 0,
              "ticks": ""
             }
            },
            "type": "scattermapbox"
           }
          ],
          "scatterpolar": [
           {
            "marker": {
             "colorbar": {
              "outlinewidth": 0,
              "ticks": ""
             }
            },
            "type": "scatterpolar"
           }
          ],
          "scatterpolargl": [
           {
            "marker": {
             "colorbar": {
              "outlinewidth": 0,
              "ticks": ""
             }
            },
            "type": "scatterpolargl"
           }
          ],
          "scatterternary": [
           {
            "marker": {
             "colorbar": {
              "outlinewidth": 0,
              "ticks": ""
             }
            },
            "type": "scatterternary"
           }
          ],
          "surface": [
           {
            "colorbar": {
             "outlinewidth": 0,
             "ticks": ""
            },
            "colorscale": [
             [
              0,
              "#0d0887"
             ],
             [
              0.1111111111111111,
              "#46039f"
             ],
             [
              0.2222222222222222,
              "#7201a8"
             ],
             [
              0.3333333333333333,
              "#9c179e"
             ],
             [
              0.4444444444444444,
              "#bd3786"
             ],
             [
              0.5555555555555556,
              "#d8576b"
             ],
             [
              0.6666666666666666,
              "#ed7953"
             ],
             [
              0.7777777777777778,
              "#fb9f3a"
             ],
             [
              0.8888888888888888,
              "#fdca26"
             ],
             [
              1,
              "#f0f921"
             ]
            ],
            "type": "surface"
           }
          ],
          "table": [
           {
            "cells": {
             "fill": {
              "color": "#EBF0F8"
             },
             "line": {
              "color": "white"
             }
            },
            "header": {
             "fill": {
              "color": "#C8D4E3"
             },
             "line": {
              "color": "white"
             }
            },
            "type": "table"
           }
          ]
         },
         "layout": {
          "annotationdefaults": {
           "arrowcolor": "#2a3f5f",
           "arrowhead": 0,
           "arrowwidth": 1
          },
          "autotypenumbers": "strict",
          "coloraxis": {
           "colorbar": {
            "outlinewidth": 0,
            "ticks": ""
           }
          },
          "colorscale": {
           "diverging": [
            [
             0,
             "#8e0152"
            ],
            [
             0.1,
             "#c51b7d"
            ],
            [
             0.2,
             "#de77ae"
            ],
            [
             0.3,
             "#f1b6da"
            ],
            [
             0.4,
             "#fde0ef"
            ],
            [
             0.5,
             "#f7f7f7"
            ],
            [
             0.6,
             "#e6f5d0"
            ],
            [
             0.7,
             "#b8e186"
            ],
            [
             0.8,
             "#7fbc41"
            ],
            [
             0.9,
             "#4d9221"
            ],
            [
             1,
             "#276419"
            ]
           ],
           "sequential": [
            [
             0,
             "#0d0887"
            ],
            [
             0.1111111111111111,
             "#46039f"
            ],
            [
             0.2222222222222222,
             "#7201a8"
            ],
            [
             0.3333333333333333,
             "#9c179e"
            ],
            [
             0.4444444444444444,
             "#bd3786"
            ],
            [
             0.5555555555555556,
             "#d8576b"
            ],
            [
             0.6666666666666666,
             "#ed7953"
            ],
            [
             0.7777777777777778,
             "#fb9f3a"
            ],
            [
             0.8888888888888888,
             "#fdca26"
            ],
            [
             1,
             "#f0f921"
            ]
           ],
           "sequentialminus": [
            [
             0,
             "#0d0887"
            ],
            [
             0.1111111111111111,
             "#46039f"
            ],
            [
             0.2222222222222222,
             "#7201a8"
            ],
            [
             0.3333333333333333,
             "#9c179e"
            ],
            [
             0.4444444444444444,
             "#bd3786"
            ],
            [
             0.5555555555555556,
             "#d8576b"
            ],
            [
             0.6666666666666666,
             "#ed7953"
            ],
            [
             0.7777777777777778,
             "#fb9f3a"
            ],
            [
             0.8888888888888888,
             "#fdca26"
            ],
            [
             1,
             "#f0f921"
            ]
           ]
          },
          "colorway": [
           "#636efa",
           "#EF553B",
           "#00cc96",
           "#ab63fa",
           "#FFA15A",
           "#19d3f3",
           "#FF6692",
           "#B6E880",
           "#FF97FF",
           "#FECB52"
          ],
          "font": {
           "color": "#2a3f5f"
          },
          "geo": {
           "bgcolor": "white",
           "lakecolor": "white",
           "landcolor": "#E5ECF6",
           "showlakes": true,
           "showland": true,
           "subunitcolor": "white"
          },
          "hoverlabel": {
           "align": "left"
          },
          "hovermode": "closest",
          "mapbox": {
           "style": "light"
          },
          "paper_bgcolor": "white",
          "plot_bgcolor": "#E5ECF6",
          "polar": {
           "angularaxis": {
            "gridcolor": "white",
            "linecolor": "white",
            "ticks": ""
           },
           "bgcolor": "#E5ECF6",
           "radialaxis": {
            "gridcolor": "white",
            "linecolor": "white",
            "ticks": ""
           }
          },
          "scene": {
           "xaxis": {
            "backgroundcolor": "#E5ECF6",
            "gridcolor": "white",
            "gridwidth": 2,
            "linecolor": "white",
            "showbackground": true,
            "ticks": "",
            "zerolinecolor": "white"
           },
           "yaxis": {
            "backgroundcolor": "#E5ECF6",
            "gridcolor": "white",
            "gridwidth": 2,
            "linecolor": "white",
            "showbackground": true,
            "ticks": "",
            "zerolinecolor": "white"
           },
           "zaxis": {
            "backgroundcolor": "#E5ECF6",
            "gridcolor": "white",
            "gridwidth": 2,
            "linecolor": "white",
            "showbackground": true,
            "ticks": "",
            "zerolinecolor": "white"
           }
          },
          "shapedefaults": {
           "line": {
            "color": "#2a3f5f"
           }
          },
          "ternary": {
           "aaxis": {
            "gridcolor": "white",
            "linecolor": "white",
            "ticks": ""
           },
           "baxis": {
            "gridcolor": "white",
            "linecolor": "white",
            "ticks": ""
           },
           "bgcolor": "#E5ECF6",
           "caxis": {
            "gridcolor": "white",
            "linecolor": "white",
            "ticks": ""
           }
          },
          "title": {
           "x": 0.05
          },
          "xaxis": {
           "automargin": true,
           "gridcolor": "white",
           "linecolor": "white",
           "ticks": "",
           "title": {
            "standoff": 15
           },
           "zerolinecolor": "white",
           "zerolinewidth": 2
          },
          "yaxis": {
           "automargin": true,
           "gridcolor": "white",
           "linecolor": "white",
           "ticks": "",
           "title": {
            "standoff": 15
           },
           "zerolinecolor": "white",
           "zerolinewidth": 2
          }
         }
        },
        "title": {
         "text": "Number of Transaction by Shopping Mall"
        },
        "xaxis": {
         "anchor": "y",
         "domain": [
          0,
          1
         ],
         "title": {
          "text": "shopping_mall"
         }
        },
        "yaxis": {
         "anchor": "x",
         "domain": [
          0,
          1
         ],
         "title": {
          "text": "count"
         }
        }
       }
      }
     },
     "metadata": {},
     "output_type": "display_data"
    }
   ],
   "source": [
    "fig = px.bar(df_mal, x='shopping_mall', y='count', title= \"Number of Transaction by Shopping Mall\")\n",
    "\n",
    "fig.show()"
   ]
  },
  {
   "cell_type": "markdown",
   "metadata": {},
   "source": [
    "Dari grafik diatas, dapat diketahui bahwa 'Mall of Istanbul' memiliki jumlah transaksi atau penjualan terbanyak sebanyak 19,943 pejualan. Dibandingkan dengan 'Emaar Square Mall' memiliki jumlah penjualan yang terendah sebanyak 4,811 penjualan. Dengan penjualan yang sangat berbeda maka untuk mall atau pusat perbelanjaan yang memiliki jumlah penjualan yang rendah dapat meningkatkan penjualannya agar dapat mendekati jumlah penjualan pusat perbelanjaan yang lain. Selanjutnya akan memuat kesimpulan dari semua hasil analisis."
   ]
  },
  {
   "cell_type": "markdown",
   "metadata": {},
   "source": [
    "### Kesimpulan"
   ]
  },
  {
   "cell_type": "markdown",
   "metadata": {},
   "source": [
    "Dari analisis yang telah dilakukan maka dapat disimpulkan bahwa strategi penjualan dalam 3 bulan akan dilakukan dari bulan februari hingga mei. Dimana pada strategi penjualan ini akan berfokus pada 3 kategori yang memiliki total sales terbesar yaitu 'Clothing', 'Shoes' dan 'Technology' yang akan menargetkan kategori usia 'Dewasa Akhir' yang memiliki jumlah pembelian terbanyak setiap tahunnya dengan harga produk untuk setiap kategori yang berkorelasi negatif lemah. Lalu dengan lebih menargetkan penggunaan cara pembayaran cash dan credit card. Maka dalam 3 bulan dari bulan februari hingga mei dapat mencapai peningkatan sebanyak 11.1% sampai 20.82% dimana perkiraan tengahnya adalah 15,96%. Dengan perkiraan setiap transaksi dalam interval ₺2,502.5472289772524 sampai ₺2,555.0313074756878."
   ]
  },
  {
   "cell_type": "markdown",
   "metadata": {},
   "source": [
    "### Saran"
   ]
  },
  {
   "cell_type": "markdown",
   "metadata": {},
   "source": [
    "Rekomendasi yang dapat dilakukan:\n",
    "1. Cash Promotions\n",
    "    - Menambah promosi dengan minimum total belanja(₺2,500) dengan pembayaran tunai.\n",
    "2. Clothes Promotions\n",
    "    - Membuat promosi pada setiap bulan dari bulan februari sampai mei karena 'Clothing' menjadi penjualan terbesar pada transaksi.\n",
    "3. Shoes Promotions\n",
    "    - Membuat promosi pembelian lebih dari 1 sepatu dari bulai februari sampai mei.\n",
    "4. Technology Promotions\n",
    "    - Membuat promosi penjualan teknologi atau pameran teknologi pada bulan ferbuari sampai mei."
   ]
  }
 ],
 "metadata": {
  "kernelspec": {
   "display_name": "base",
   "language": "python",
   "name": "python3"
  },
  "language_info": {
   "codemirror_mode": {
    "name": "ipython",
    "version": 3
   },
   "file_extension": ".py",
   "mimetype": "text/x-python",
   "name": "python",
   "nbconvert_exporter": "python",
   "pygments_lexer": "ipython3",
   "version": "3.12.3"
  }
 },
 "nbformat": 4,
 "nbformat_minor": 2
}
